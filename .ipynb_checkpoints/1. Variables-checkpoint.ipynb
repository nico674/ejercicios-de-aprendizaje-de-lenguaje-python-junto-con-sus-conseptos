{
 "cells": [
  {
   "cell_type": "markdown",
   "id": "44feb908",
   "metadata": {},
   "source": [
    "# Variables\n",
    "## Docente: Gustavo Humberto Polanía Mogollón"
   ]
  },
  {
   "cell_type": "code",
   "execution_count": null,
   "id": "5129882b",
   "metadata": {},
   "outputs": [],
   "source": [
    "#Las variables se definen de forma dinámica. El signo igual (=) se usa para asignar valores a las variables\n",
    "x = 1\n",
    "print(type(x))\n",
    "x = 'texto'  #Esto es posible por el tipado dinámico\n",
    "print(type(x))"
   ]
  },
  {
   "cell_type": "markdown",
   "id": "154a598a",
   "metadata": {},
   "source": [
    "## Casting"
   ]
  },
  {
   "cell_type": "code",
   "execution_count": null,
   "id": "a31104fa",
   "metadata": {},
   "outputs": [],
   "source": [
    "x = str(3)\n",
    "print(x)\n",
    "print(type(x))"
   ]
  },
  {
   "cell_type": "code",
   "execution_count": null,
   "id": "73647b96",
   "metadata": {},
   "outputs": [],
   "source": [
    "x = int(3)\n",
    "print(x)\n",
    "print(type(x))"
   ]
  },
  {
   "cell_type": "code",
   "execution_count": null,
   "id": "32def231",
   "metadata": {},
   "outputs": [],
   "source": [
    "x = float(3)\n",
    "print(x)\n",
    "print(type(x))\n",
    "x = 3\n",
    "print(type(x))"
   ]
  },
  {
   "cell_type": "code",
   "execution_count": null,
   "id": "c0ae4c41",
   "metadata": {},
   "outputs": [],
   "source": [
    "complejo = 3+5j\n",
    "print(complejo)\n",
    "print(type(complejo))"
   ]
  },
  {
   "cell_type": "markdown",
   "id": "91ebf278",
   "metadata": {},
   "source": [
    "### Hacer cast o casting significa convertir un tipo de dato a otro. "
   ]
  },
  {
   "cell_type": "markdown",
   "id": "d9d01ce7",
   "metadata": {},
   "source": [
    "### Conversión Implícita"
   ]
  },
  {
   "cell_type": "code",
   "execution_count": null,
   "id": "5dceb4cf",
   "metadata": {},
   "outputs": [],
   "source": [
    "a = 1\n",
    "print(type(a))\n",
    "b = 2.3\n",
    "print(type(b))\n",
    "c = a + b\n",
    "print(c)\n",
    "print(type(c))"
   ]
  },
  {
   "cell_type": "code",
   "execution_count": null,
   "id": "6ec1d63d",
   "metadata": {},
   "outputs": [],
   "source": [
    "a = 1\n",
    "b = \"Hola\"\n",
    "\n",
    "try:\n",
    "    c = b / a\n",
    "    print(c)\n",
    "except Exception as error:\n",
    "    print(\"No se puede hacer esta operación porque se generó el error: \" + str(error))"
   ]
  },
  {
   "cell_type": "markdown",
   "id": "a6c7a468",
   "metadata": {},
   "source": [
    "### Conversión Explícita"
   ]
  },
  {
   "cell_type": "code",
   "execution_count": null,
   "id": "ddec4c2b",
   "metadata": {},
   "outputs": [],
   "source": [
    "a = \"35.5\"\n",
    "b = float(a)\n",
    "print(type(a))\n",
    "print(a)\n",
    "print(type(b))\n",
    "print(b)"
   ]
  },
  {
   "cell_type": "code",
   "execution_count": null,
   "id": "3afcd91d",
   "metadata": {},
   "outputs": [],
   "source": [
    "a = '3'\n",
    "print(type(a))\n",
    "print(int(a))\n",
    "print(type(int(a)))"
   ]
  },
  {
   "cell_type": "code",
   "execution_count": null,
   "id": "b7b22609",
   "metadata": {},
   "outputs": [],
   "source": [
    "a = 10\n",
    "print(type(a))\n",
    "print(str(a))\n",
    "print(type(str(a)))"
   ]
  },
  {
   "cell_type": "code",
   "execution_count": null,
   "id": "e0d742a2",
   "metadata": {},
   "outputs": [],
   "source": [
    "a = 52.63\n",
    "print(type(a))\n",
    "print(int(a))\n",
    "print(type(int(a)))"
   ]
  },
  {
   "cell_type": "markdown",
   "id": "769df927",
   "metadata": {},
   "source": [
    "## Prueba operador de membresía"
   ]
  },
  {
   "cell_type": "code",
   "execution_count": null,
   "id": "5e0112a3",
   "metadata": {},
   "outputs": [],
   "source": [
    "texto = \"USCO\"\n",
    "print('n' not in texto)"
   ]
  },
  {
   "cell_type": "markdown",
   "id": "237c56c5",
   "metadata": {},
   "source": [
    "# Variables Numéricas"
   ]
  },
  {
   "cell_type": "code",
   "execution_count": null,
   "id": "c6930707",
   "metadata": {},
   "outputs": [],
   "source": [
    "x = 1\n",
    "y = 2.8\n",
    "z = 1j\n",
    "print(type(x))\n",
    "print(type(y))\n",
    "print(type(z))"
   ]
  },
  {
   "cell_type": "code",
   "execution_count": null,
   "id": "3d03b1a6",
   "metadata": {},
   "outputs": [],
   "source": [
    "2**3"
   ]
  },
  {
   "cell_type": "code",
   "execution_count": null,
   "id": "2c34ac66",
   "metadata": {},
   "outputs": [],
   "source": [
    "pow(2,3)"
   ]
  },
  {
   "cell_type": "code",
   "execution_count": null,
   "id": "8ba5c1ee",
   "metadata": {},
   "outputs": [],
   "source": [
    "a = 8%4\n",
    "print(a)"
   ]
  },
  {
   "cell_type": "code",
   "execution_count": null,
   "id": "6ce029da",
   "metadata": {},
   "outputs": [],
   "source": [
    "b = 8//4\n",
    "print(b)"
   ]
  },
  {
   "attachments": {
    "image.png": {
     "image/png": "[encoded data removed]"
    }
   },
   "cell_type": "markdown",
   "id": "4b8dc284",
   "metadata": {},
   "source": [
    "![image.png](attachment:image.png)"
   ]
  },
  {
   "cell_type": "code",
   "execution_count": null,
   "id": "f97dccd0",
   "metadata": {},
   "outputs": [],
   "source": [
    "import random\n",
    "a = random.random()*10\n",
    "print(a)"
   ]
  },
  {
   "cell_type": "code",
   "execution_count": null,
   "id": "89b71c79",
   "metadata": {},
   "outputs": [],
   "source": [
    "print(random.randint(5,15))"
   ]
  },
  {
   "attachments": {
    "image.png": {
     "image/png": "[encoded data removed]"
    }
   },
   "cell_type": "markdown",
   "id": "d09c2d3d",
   "metadata": {},
   "source": [
    "![image.png](attachment:image.png)"
   ]
  },
  {
   "cell_type": "code",
   "execution_count": null,
   "id": "4eded48e",
   "metadata": {},
   "outputs": [],
   "source": [
    "import math\n",
    "math.ceil(3.5698)"
   ]
  },
  {
   "cell_type": "code",
   "execution_count": null,
   "id": "650ce662",
   "metadata": {},
   "outputs": [],
   "source": [
    "math.floor(3.5698)"
   ]
  },
  {
   "cell_type": "code",
   "execution_count": null,
   "id": "e32d5904",
   "metadata": {},
   "outputs": [],
   "source": [
    "math.sqrt(4)"
   ]
  },
  {
   "cell_type": "code",
   "execution_count": null,
   "id": "2a1acc28",
   "metadata": {},
   "outputs": [],
   "source": [
    "math.pow(3,3)"
   ]
  },
  {
   "cell_type": "code",
   "execution_count": null,
   "id": "61b649af",
   "metadata": {},
   "outputs": [],
   "source": [
    "math.e"
   ]
  },
  {
   "cell_type": "code",
   "execution_count": null,
   "id": "e5c45337",
   "metadata": {},
   "outputs": [],
   "source": [
    "math.pi"
   ]
  },
  {
   "cell_type": "code",
   "execution_count": null,
   "id": "f5b6905e",
   "metadata": {},
   "outputs": [],
   "source": [
    "a = math.inf\n",
    "print(a)\n",
    "type(a)"
   ]
  },
  {
   "cell_type": "code",
   "execution_count": null,
   "id": "16b3362b",
   "metadata": {},
   "outputs": [],
   "source": [
    "a = math.nan\n",
    "print(a)\n",
    "type(a)"
   ]
  },
  {
   "cell_type": "code",
   "execution_count": null,
   "id": "88ceb09d",
   "metadata": {},
   "outputs": [],
   "source": [
    "math.pi"
   ]
  },
  {
   "cell_type": "code",
   "execution_count": null,
   "id": "bee92a30",
   "metadata": {},
   "outputs": [],
   "source": [
    "math.tau"
   ]
  },
  {
   "cell_type": "code",
   "execution_count": null,
   "id": "9dbb3e28",
   "metadata": {},
   "outputs": [],
   "source": [
    "math.pow(math.inf, 0)"
   ]
  },
  {
   "cell_type": "code",
   "execution_count": null,
   "id": "8f75bb1f",
   "metadata": {},
   "outputs": [],
   "source": [
    "math.sin(math.pi)"
   ]
  },
  {
   "cell_type": "code",
   "execution_count": null,
   "id": "376a76d1",
   "metadata": {},
   "outputs": [],
   "source": [
    "math.cos(math.pi/2)"
   ]
  },
  {
   "cell_type": "code",
   "execution_count": null,
   "id": "bd865088",
   "metadata": {},
   "outputs": [],
   "source": [
    "math.factorial(3)"
   ]
  },
  {
   "cell_type": "markdown",
   "id": "d5574571",
   "metadata": {},
   "source": [
    "# Variables tipo STRING"
   ]
  },
  {
   "cell_type": "code",
   "execution_count": null,
   "id": "144b30dd",
   "metadata": {},
   "outputs": [],
   "source": [
    "a = \"Hello\"\n",
    "b = 'Hello'\n",
    "print(a)\n",
    "print(b)"
   ]
  },
  {
   "cell_type": "code",
   "execution_count": null,
   "id": "652090db",
   "metadata": {},
   "outputs": [],
   "source": [
    "texto = \"\"\"Lorem Ipsum is simply dummy text of the printing \n",
    "and typesetting industry. Lorem Ipsum has been the industry's \n",
    "standard dummy text ever since the 1500s, when an unknown printer \n",
    "took a galley of type and scrambled it to make a type specimen book\"\"\"\n",
    "print(texto)"
   ]
  },
  {
   "attachments": {
    "image.png": {
     "image/png": "[encoded data removed]"
    }
   },
   "cell_type": "markdown",
   "id": "c9ad01a6",
   "metadata": {},
   "source": [
    "![image.png](attachment:image.png)"
   ]
  },
  {
   "attachments": {
    "image.png": {
     "image/png": "[encoded data removed]"
    }
   },
   "cell_type": "markdown",
   "id": "9e35b5f8",
   "metadata": {},
   "source": [
    "![image.png](attachment:image.png)"
   ]
  },
  {
   "cell_type": "code",
   "execution_count": null,
   "id": "bca15a2e",
   "metadata": {},
   "outputs": [],
   "source": [
    "texto = \"Hello, World!\"\n",
    "print(texto[5])"
   ]
  },
  {
   "cell_type": "code",
   "execution_count": null,
   "id": "44a6a8fe",
   "metadata": {},
   "outputs": [],
   "source": [
    "print(texto[-1])"
   ]
  },
  {
   "cell_type": "code",
   "execution_count": null,
   "id": "19a3f22e",
   "metadata": {},
   "outputs": [],
   "source": [
    "print(texto[-3:-1])"
   ]
  },
  {
   "cell_type": "code",
   "execution_count": null,
   "id": "5c21f317",
   "metadata": {},
   "outputs": [],
   "source": [
    "print(texto[2:])"
   ]
  },
  {
   "cell_type": "code",
   "execution_count": null,
   "id": "921bb991",
   "metadata": {},
   "outputs": [],
   "source": [
    "print(texto[:5])"
   ]
  },
  {
   "cell_type": "code",
   "execution_count": null,
   "id": "204376e1",
   "metadata": {},
   "outputs": [],
   "source": [
    "print(texto[1:len(texto)])"
   ]
  },
  {
   "cell_type": "code",
   "execution_count": null,
   "id": "c6c0729b",
   "metadata": {},
   "outputs": [],
   "source": [
    "txt = \"The best things in life are free!\"\n",
    "print(\"free\" in txt)\n",
    "print(\"expensive\" not in txt)"
   ]
  },
  {
   "attachments": {
    "image.png": {
     "image/png": "[encoded data removed]"
    }
   },
   "cell_type": "markdown",
   "id": "e1e6bfb0",
   "metadata": {},
   "source": [
    "![image.png](attachment:image.png)"
   ]
  },
  {
   "cell_type": "code",
   "execution_count": null,
   "id": "f14246f7",
   "metadata": {},
   "outputs": [],
   "source": [
    "texto = \"Hello, World, I'm very happy with us\"\n",
    "print(texto.upper())"
   ]
  },
  {
   "cell_type": "code",
   "execution_count": null,
   "id": "36a65a2a",
   "metadata": {},
   "outputs": [],
   "source": [
    "print(texto.lower())"
   ]
  },
  {
   "cell_type": "code",
   "execution_count": null,
   "id": "db23ee2a",
   "metadata": {},
   "outputs": [],
   "source": [
    "texto = \"    Hello, World!  \"\n",
    "print(texto.rstrip())"
   ]
  },
  {
   "cell_type": "code",
   "execution_count": null,
   "id": "ad6053d8",
   "metadata": {},
   "outputs": [],
   "source": [
    "texto = \"Hello, World!\"\n",
    "print(texto.replace(\"l\", \"*\"))"
   ]
  },
  {
   "cell_type": "code",
   "execution_count": null,
   "id": "781c8ad6",
   "metadata": {},
   "outputs": [],
   "source": [
    "print(texto.split(\" \"))\n",
    "print(texto.split(\" \")[0])\n",
    "print(texto.split(\" \")[1])"
   ]
  },
  {
   "attachments": {
    "image.png": {
     "image/png": "[encoded data removed]"
    }
   },
   "cell_type": "markdown",
   "id": "a28c3f21",
   "metadata": {},
   "source": [
    "![image.png](attachment:image.png)"
   ]
  },
  {
   "cell_type": "code",
   "execution_count": null,
   "id": "2999941e",
   "metadata": {},
   "outputs": [],
   "source": [
    "a = \"Hola\"\n",
    "b = \"Equipo\"\n",
    "c = a + \" \" + b\n",
    "print(c)"
   ]
  },
  {
   "cell_type": "code",
   "execution_count": null,
   "id": "704f2fc5",
   "metadata": {},
   "outputs": [],
   "source": [
    "nombre = \"Gustavo\"\n",
    "edad = 39"
   ]
  },
  {
   "cell_type": "code",
   "execution_count": null,
   "id": "af6d87cd",
   "metadata": {},
   "outputs": [],
   "source": [
    "txt = \"Mi nombre es \" + nombre + \" y tengo \" + str(edad) + \" años\"\n",
    "print(txt)"
   ]
  },
  {
   "cell_type": "code",
   "execution_count": null,
   "id": "4f0ba8d8",
   "metadata": {},
   "outputs": [],
   "source": [
    "print(\"Mi nombre es \", nombre, \" y tengo \", str(edad), \" años\")"
   ]
  },
  {
   "cell_type": "code",
   "execution_count": null,
   "id": "124b0d31",
   "metadata": {},
   "outputs": [],
   "source": [
    "apellido = \"Polanía\"\n",
    "print(\"Mi nombre es %s, mi apellido es %s y tengo %d años\"%(nombre, apellido, edad))"
   ]
  },
  {
   "cell_type": "code",
   "execution_count": null,
   "id": "5ce2d7c2",
   "metadata": {},
   "outputs": [],
   "source": [
    "txt = \"Mi nombre es {}, mi apellido es {} y tengo {} años\".format(nombre, apellido, edad)\n",
    "print(txt)"
   ]
  },
  {
   "cell_type": "code",
   "execution_count": null,
   "id": "9d6344ec",
   "metadata": {},
   "outputs": [],
   "source": [
    "txt = \"Mi nombre es {2}, mi apellido es {1} y tengo {0} años\".format(edad, apellido, nombre)\n",
    "print(txt)"
   ]
  },
  {
   "cell_type": "code",
   "execution_count": null,
   "id": "c89f9622",
   "metadata": {},
   "outputs": [],
   "source": [
    "diez_espacios = \"*\"*10\n",
    "print(diez_espacios + \"un texto de diez espacios al iniciar\")"
   ]
  },
  {
   "cell_type": "code",
   "execution_count": null,
   "id": "83435623",
   "metadata": {},
   "outputs": [],
   "source": [
    "texto = \"Hola \\n Mundo\"\n",
    "print(texto)"
   ]
  },
  {
   "cell_type": "code",
   "execution_count": null,
   "id": "47c2134d",
   "metadata": {},
   "outputs": [],
   "source": [
    "texto = \"Hola \\t Mundo \\t \\t hoy es martes\"\n",
    "print(texto)"
   ]
  },
  {
   "cell_type": "markdown",
   "id": "61302007",
   "metadata": {},
   "source": [
    "# Sondeo1"
   ]
  },
  {
   "cell_type": "code",
   "execution_count": null,
   "id": "c1a0bb90",
   "metadata": {},
   "outputs": [],
   "source": [
    "texto = \"Mi%nombre%es;Gustavo;Mi%apellido%es;Polanía;\" \n",
    "#Opcion 1\n",
    "print(\"El nombre y el apellido oculto del texto es \"+texto[13:20]+\" \"+texto[-8:-1])"
   ]
  },
  {
   "cell_type": "code",
   "execution_count": null,
   "id": "93e8ee41",
   "metadata": {},
   "outputs": [],
   "source": [
    "#Opcion 2\n",
    "print(texto.split(\";\"))\n",
    "print(\"El nombre y el apellido oculto del texto es \"+texto.split(\";\")[1]+\" \"+texto.split(\";\")[3])"
   ]
  },
  {
   "cell_type": "code",
   "execution_count": null,
   "id": "c20ee0df",
   "metadata": {},
   "outputs": [],
   "source": [
    "#Andrés Mauricio Arciniegas\n",
    "\n",
    "texto = \"Mi%nombre%es;Gustavo;Mi%apellido%es;Polanía;\" \n",
    "texto = texto.replace( \";\", \"%\" )\n",
    "print(texto)\n",
    "texto = texto.split( \"%\" )\n",
    "print(texto)\n",
    "nombre = texto[3]\n",
    "apellido = texto[7]\n",
    "print( \"El nombre y apellido oculto en el texto es \", nombre, \" \", apellido )"
   ]
  }
 ],
 "metadata": {
  "kernelspec": {
   "display_name": "Python 3 (ipykernel)",
   "language": "python",
   "name": "python3"
  },
  "language_info": {
   "codemirror_mode": {
    "name": "ipython",
    "version": 3
   },
   "file_extension": ".py",
   "mimetype": "text/x-python",
   "name": "python",
   "nbconvert_exporter": "python",
   "pygments_lexer": "ipython3",
   "version": "3.11.7"
  }
 },
 "nbformat": 4,
 "nbformat_minor": 5
}
