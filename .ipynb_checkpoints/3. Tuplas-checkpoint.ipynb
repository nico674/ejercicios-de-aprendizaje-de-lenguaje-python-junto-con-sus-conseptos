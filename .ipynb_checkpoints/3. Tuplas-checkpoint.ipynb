{
 "cells": [
  {
   "cell_type": "markdown",
   "id": "44feb908",
   "metadata": {},
   "source": [
    "# Estructuras y Colecciones de datos\n",
    "## Docente: Gustavo Humberto Polanía Mogollón"
   ]
  },
  {
   "cell_type": "markdown",
   "id": "0c0ff739",
   "metadata": {},
   "source": [
    "# TUPLAS\n",
    "### Una tupla permite tener agrupados un conjunto inmutable de elementos, es decir, en una tupla no es posible agregar ni eliminar elementos. Las tuplas se declaran separando los elementos por comas y éstos, opcionalmente, pueden ir entre paréntesis. Se recomienda el uso de paréntesis para evitar ambigüedades del tipo: print(9, 8, 7) y print((9, 8, 7))."
   ]
  },
  {
   "cell_type": "code",
   "execution_count": null,
   "id": "fa26e726",
   "metadata": {},
   "outputs": [],
   "source": [
    "TuplaDias = (\"LU\", \"MA\", \"MI\", \"JU\", \"VI\", \"SA\", \"DO\")\n",
    "print(TuplaDias)\n",
    "print(type(TuplaDias))"
   ]
  },
  {
   "cell_type": "code",
   "execution_count": null,
   "id": "6c28f8e7",
   "metadata": {},
   "outputs": [],
   "source": [
    "print(len(TuplaDias))"
   ]
  },
  {
   "cell_type": "markdown",
   "id": "2e31b388",
   "metadata": {},
   "source": [
    "### Para definir una tupla vacía:"
   ]
  },
  {
   "cell_type": "code",
   "execution_count": null,
   "id": "743e2d3d",
   "metadata": {},
   "outputs": [],
   "source": [
    "a = ()\n",
    "b = tuple()\n",
    "print(a)\n",
    "print(b)\n",
    "print(type(a))\n",
    "print(type(b))"
   ]
  },
  {
   "cell_type": "markdown",
   "id": "920804de",
   "metadata": {},
   "source": [
    "### Una gran ventaja es que pueden almacenar tipos de datos distintos."
   ]
  },
  {
   "cell_type": "code",
   "execution_count": null,
   "id": "2883c9b7",
   "metadata": {},
   "outputs": [],
   "source": [
    "tupla = (1, \"Hola\", 3.67, [1, 2, 3])\n",
    "print(tupla)"
   ]
  },
  {
   "cell_type": "code",
   "execution_count": null,
   "id": "55e0082a",
   "metadata": {},
   "outputs": [],
   "source": [
    "tupla[3][0] = [5,6,7]\n",
    "print(tupla)"
   ]
  },
  {
   "cell_type": "code",
   "execution_count": null,
   "id": "291f4be7",
   "metadata": {},
   "outputs": [],
   "source": [
    "print(type(tupla[3]))"
   ]
  },
  {
   "cell_type": "markdown",
   "id": "26f22433",
   "metadata": {},
   "source": [
    "## Operaciones con tuplas"
   ]
  },
  {
   "cell_type": "code",
   "execution_count": null,
   "id": "7869d580",
   "metadata": {},
   "outputs": [],
   "source": [
    "tupla = (1, 2, ('a', 'b'), 3)\n",
    "print(tupla)\n",
    "print(tupla[2][0])"
   ]
  },
  {
   "cell_type": "markdown",
   "id": "f42f040c",
   "metadata": {},
   "source": [
    "## Métodos de las tuplas"
   ]
  },
  {
   "attachments": {
    "image-2.png": {
     "image/png": "[encoded data removed]"
    }
   },
   "cell_type": "markdown",
   "id": "266b538f",
   "metadata": {},
   "source": [
    "![image-2.png](attachment:image-2.png)"
   ]
  },
  {
   "cell_type": "code",
   "execution_count": null,
   "id": "79cfa9e1",
   "metadata": {},
   "outputs": [],
   "source": [
    "l = (1, 1, 1, 3, 5)\n",
    "print(l.count(8))"
   ]
  },
  {
   "attachments": {
    "image.png": {
     "image/png": "[encoded data removed]"
    }
   },
   "cell_type": "markdown",
   "id": "11516d07",
   "metadata": {},
   "source": [
    "![image.png](attachment:image.png)"
   ]
  },
  {
   "cell_type": "code",
   "execution_count": null,
   "id": "716d92f5",
   "metadata": {},
   "outputs": [],
   "source": [
    "l = [7, 7, 3, 7, 5]\n",
    "print(l.index(7))"
   ]
  },
  {
   "cell_type": "code",
   "execution_count": null,
   "id": "a2f79bf0",
   "metadata": {},
   "outputs": [],
   "source": [
    "a = (5, 7)\n",
    "print(a)\n",
    "print(type(a))"
   ]
  }
 ],
 "metadata": {
  "kernelspec": {
   "display_name": "Python 3 (ipykernel)",
   "language": "python",
   "name": "python3"
  },
  "language_info": {
   "codemirror_mode": {
    "name": "ipython",
    "version": 3
   },
   "file_extension": ".py",
   "mimetype": "text/x-python",
   "name": "python",
   "nbconvert_exporter": "python",
   "pygments_lexer": "ipython3",
   "version": "3.11.7"
  }
 },
 "nbformat": 4,
 "nbformat_minor": 5
}
