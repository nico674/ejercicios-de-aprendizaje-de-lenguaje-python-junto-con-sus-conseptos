{
 "cells": [
  {
   "cell_type": "markdown",
   "id": "44feb908",
   "metadata": {},
   "source": [
    "# Estructuras de Control\n",
    "## Docente Gustavo Humberto Polanía Mogollón"
   ]
  },
  {
   "cell_type": "markdown",
   "id": "0c0ff739",
   "metadata": {},
   "source": [
    "# Bucle WHILE\n",
    "### Un bucle while permite repetir la ejecución de un grupo de instrucciones mientras se cumpla una condición (es decir, mientras la condición tenga el valor TRUE)"
   ]
  },
  {
   "cell_type": "code",
   "execution_count": null,
   "id": "fa26e726",
   "metadata": {},
   "outputs": [],
   "source": [
    "x = 5\n",
    "while x > 0:\n",
    "    print(x)\n",
    "    x -= 1 # x = x - 1"
   ]
  },
  {
   "cell_type": "code",
   "execution_count": null,
   "id": "8ce6715f",
   "metadata": {},
   "outputs": [],
   "source": [
    "x = [\"Uno\", \"Dos\", \"Tres\"]\n",
    "while x:\n",
    "    x.pop(0)\n",
    "    print(x)"
   ]
  },
  {
   "cell_type": "code",
   "execution_count": null,
   "id": "fb08ee01",
   "metadata": {},
   "outputs": [],
   "source": [
    "z = 7\n",
    "x = 1\n",
    "while z > 0:\n",
    "    print(' ' * z + '*' * x + ' ' * z)\n",
    "    x+=2\n",
    "    z-=1"
   ]
  },
  {
   "cell_type": "code",
   "execution_count": null,
   "id": "bc94ab87",
   "metadata": {},
   "outputs": [],
   "source": []
  },
  {
   "cell_type": "markdown",
   "id": "09ad92c9",
   "metadata": {},
   "source": [
    "### Recorrer Listas"
   ]
  },
  {
   "cell_type": "code",
   "execution_count": null,
   "id": "d925a7d3",
   "metadata": {},
   "outputs": [],
   "source": [
    "list = [\"apple\", \"banana\", \"cherry\"]\n",
    "i = 0\n",
    "print(len(list))\n",
    "while i < len(list):\n",
    "    print(list[i])\n",
    "    i = i + 1"
   ]
  },
  {
   "cell_type": "code",
   "execution_count": null,
   "id": "be5ee25f",
   "metadata": {},
   "outputs": [],
   "source": [
    "# Hacer lo mismo del ejercicio anterior\n",
    "# Pero utilizando el for  enumerate:"
   ]
  },
  {
   "cell_type": "code",
   "execution_count": null,
   "id": "69b4b782",
   "metadata": {},
   "outputs": [],
   "source": [
    "list = [\"apple\", \"banana\", \"cherry\"]\n",
    "\n",
    "for i, v in enumerate(list):\n",
    "    print(i)\n",
    "    print(v)"
   ]
  },
  {
   "cell_type": "code",
   "execution_count": null,
   "id": "6d26313f",
   "metadata": {},
   "outputs": [],
   "source": [
    "for x in list:\n",
    "    print(x)"
   ]
  },
  {
   "cell_type": "markdown",
   "id": "e231ebfc",
   "metadata": {},
   "source": [
    "### Recorrer Tuplas"
   ]
  },
  {
   "cell_type": "code",
   "execution_count": null,
   "id": "021995ee",
   "metadata": {},
   "outputs": [],
   "source": [
    "tupla = (\"apple\", \"banana\", \"cherry\")\n",
    "i = 0\n",
    "print(len(tupla))\n",
    "while i < len(tupla):\n",
    "    print(tupla[i])\n",
    "    i = i + 1"
   ]
  },
  {
   "cell_type": "markdown",
   "id": "980f278a",
   "metadata": {},
   "source": [
    "### Recorrer Diccionarios"
   ]
  },
  {
   "cell_type": "code",
   "execution_count": null,
   "id": "d39a322a",
   "metadata": {},
   "outputs": [],
   "source": [
    "personajes = [] #lista\n",
    "\n",
    "gandalf = {'Nombre':'Gandalf','Clase':'Mago','Raza':'Humano'}\n",
    "legolas = {'Nombre':'Legolas','Clase':'Arquero','Raza':'Elfo'}\n",
    "gimli = {'Nombre':'Gimli','Clase':'Guerrero','Raza':'Enano'}\n",
    "\n",
    "personajes.append(gandalf)\n",
    "print(personajes)\n",
    "personajes.append(legolas)\n",
    "print(personajes)\n",
    "personajes.append(gimli)\n",
    "\n",
    "print(personajes)"
   ]
  },
  {
   "cell_type": "code",
   "execution_count": null,
   "id": "dbc10645",
   "metadata": {},
   "outputs": [],
   "source": [
    "print(personajes[0])\n",
    "print(type(personajes[0]))"
   ]
  },
  {
   "cell_type": "code",
   "execution_count": null,
   "id": "3bbb0a81",
   "metadata": {},
   "outputs": [],
   "source": [
    "print(personajes[0][\"Nombre\"])"
   ]
  },
  {
   "cell_type": "code",
   "execution_count": null,
   "id": "85c41044",
   "metadata": {},
   "outputs": [],
   "source": [
    "i = 0\n",
    "while i < len(personajes):\n",
    "    print(personajes[i][\"Nombre\"])\n",
    "    i += 1"
   ]
  },
  {
   "cell_type": "code",
   "execution_count": null,
   "id": "df697926",
   "metadata": {},
   "outputs": [],
   "source": [
    "print(\"Bienvenido al menú interactivo\")\n",
    "while(True):\n",
    "    print(\"\"\"¿Qué quieres hacer? Escribe una opción\n",
    "    1) Saludar\n",
    "    2) Sumar dos números\n",
    "    3) Salir\"\"\")\n",
    "    opcion = input()\n",
    "    if opcion == '1':\n",
    "        print(\"Hola, espero que la estés pasando bien\")\n",
    "    elif opcion == '2':\n",
    "        n1 = float(input(\"Introduce el primer número: \"))\n",
    "        n2 = float(input(\"Introduce el segundo número: \"))\n",
    "        print(\"El resultado de la suma es: \",n1+n2)\n",
    "    elif opcion =='3':\n",
    "        print(\"¡Hasta luego! Ha sido un placer ayudarte\")\n",
    "        break\n",
    "    else:\n",
    "        print(\"Comando desconocido, vuelve a intentarlo\")"
   ]
  },
  {
   "cell_type": "markdown",
   "id": "13d39a2f",
   "metadata": {},
   "source": [
    "## WHILE - ELSE"
   ]
  },
  {
   "cell_type": "code",
   "execution_count": null,
   "id": "b9f1ee68",
   "metadata": {},
   "outputs": [],
   "source": [
    "x = 5\n",
    "while x > 0:\n",
    "    x -=1\n",
    "    print(x)\n",
    "else:\n",
    "    print(\"El bucle ha finalizado\")"
   ]
  },
  {
   "cell_type": "code",
   "execution_count": null,
   "id": "2eee9584",
   "metadata": {},
   "outputs": [],
   "source": [
    "x = 5\n",
    "while True:\n",
    "    x -= 1\n",
    "    print(x)\n",
    "    if x == 0:\n",
    "        break\n",
    "else:\n",
    "    # El print no se ejecuta\n",
    "    print(\"Fin del bucle\")"
   ]
  }
 ],
 "metadata": {
  "kernelspec": {
   "display_name": "Python 3 (ipykernel)",
   "language": "python",
   "name": "python3"
  },
  "language_info": {
   "codemirror_mode": {
    "name": "ipython",
    "version": 3
   },
   "file_extension": ".py",
   "mimetype": "text/x-python",
   "name": "python",
   "nbconvert_exporter": "python",
   "pygments_lexer": "ipython3",
   "version": "3.11.7"
  }
 },
 "nbformat": 4,
 "nbformat_minor": 5
}
