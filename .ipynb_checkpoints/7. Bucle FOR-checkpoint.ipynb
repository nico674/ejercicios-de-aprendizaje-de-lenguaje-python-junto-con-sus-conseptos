{
 "cells": [
  {
   "cell_type": "markdown",
   "id": "44feb908",
   "metadata": {},
   "source": [
    "# Estructuras de Control\n",
    "## Docente Gustavo Humberto Polanía Mogollón"
   ]
  },
  {
   "cell_type": "markdown",
   "id": "0c0ff739",
   "metadata": {},
   "source": [
    "# Bucle FOR\n",
    "### Un bucle for es un bucle que repite el bloque de instrucciones un número predeterminado de veces. El bloque de instrucciones que se repite se suele llamar cuerpo del bucle y cada repetición se suele llamar iteración."
   ]
  },
  {
   "cell_type": "code",
   "execution_count": 1,
   "id": "fa26e726",
   "metadata": {},
   "outputs": [
    {
     "name": "stdout",
     "output_type": "stream",
     "text": [
      "P\n",
      "y\n",
      "t\n",
      "h\n",
      "o\n",
      "n\n"
     ]
    }
   ],
   "source": [
    "for i in \"Python\":\n",
    "    print(i)"
   ]
  },
  {
   "cell_type": "code",
   "execution_count": 3,
   "id": "36fb405f",
   "metadata": {},
   "outputs": [
    {
     "name": "stdout",
     "output_type": "stream",
     "text": [
      "5\n",
      "El elemento 1 es del tipo de dato <class 'int'>\n",
      "El elemento Gustavo es del tipo de dato <class 'str'>\n",
      "El elemento (1+3j) es del tipo de dato <class 'complex'>\n",
      "El elemento 45.89 es del tipo de dato <class 'float'>\n",
      "El elemento ['Polanía', 39, (5+8j)] es del tipo de dato <class 'list'>\n"
     ]
    }
   ],
   "source": [
    "lista = [1, \"Gustavo\", 1+3j, 45.89, [\"Polanía\", 39, 5+8j]]\n",
    "for iteracion in lista:\n",
    "    print(f\"El elemento {iteracion} es del tipo de dato {type(iteracion)}\")\n",
    "    "
   ]
  },
  {
   "cell_type": "code",
   "execution_count": 4,
   "id": "71deb59a",
   "metadata": {},
   "outputs": [
    {
     "name": "stdout",
     "output_type": "stream",
     "text": [
      "1\n",
      "2\n",
      "3\n",
      "Gustavo\n",
      "Humberto\n",
      "Polanía\n",
      "45.6\n",
      "89\n",
      "4\n",
      "36.8\n"
     ]
    }
   ],
   "source": [
    "lista1 = [[1, 2, 3], [\"Gustavo\", \"Humberto\", \"Polanía\"], [45.6, 89,4, 36.8]]\n",
    "for i in lista1:\n",
    "    for j in i:\n",
    "        print(j)"
   ]
  },
  {
   "cell_type": "code",
   "execution_count": null,
   "id": "30f39689",
   "metadata": {},
   "outputs": [],
   "source": []
  },
  {
   "cell_type": "code",
   "execution_count": 1,
   "id": "fe7eb9c6",
   "metadata": {},
   "outputs": [
    {
     "name": "stdout",
     "output_type": "stream",
     "text": [
      "Python\n"
     ]
    }
   ],
   "source": [
    "texto = \"Python\"\n",
    "print(texto)"
   ]
  },
  {
   "cell_type": "code",
   "execution_count": null,
   "id": "2a0eab44",
   "metadata": {},
   "outputs": [],
   "source": []
  },
  {
   "cell_type": "code",
   "execution_count": 2,
   "id": "fe997235",
   "metadata": {},
   "outputs": [
    {
     "name": "stdout",
     "output_type": "stream",
     "text": [
      "P\n",
      "t\n",
      "o\n"
     ]
    }
   ],
   "source": [
    "texto = \"Python\"\n",
    "for i in texto[::2]:\n",
    "    print(i)"
   ]
  },
  {
   "cell_type": "markdown",
   "id": "09ad92c9",
   "metadata": {},
   "source": [
    "### Recorrer Listas"
   ]
  },
  {
   "cell_type": "code",
   "execution_count": 4,
   "id": "d925a7d3",
   "metadata": {},
   "outputs": [
    {
     "name": "stdout",
     "output_type": "stream",
     "text": [
      "[[56, 34, 1], [12, 4, 5], [9, 4, 3]]\n"
     ]
    }
   ],
   "source": [
    "lista = [[56, 34, 1],\n",
    "         [12, 4, 5],\n",
    "         [9, 4, 3]]\n",
    "print(lista)"
   ]
  },
  {
   "cell_type": "code",
   "execution_count": 5,
   "id": "9a649202",
   "metadata": {},
   "outputs": [
    {
     "name": "stdout",
     "output_type": "stream",
     "text": [
      "[56, 34, 1]\n",
      "[12, 4, 5]\n",
      "[9, 4, 3]\n"
     ]
    }
   ],
   "source": [
    "for i in lista:\n",
    "    print(i)"
   ]
  },
  {
   "cell_type": "code",
   "execution_count": 6,
   "id": "46334da0",
   "metadata": {},
   "outputs": [
    {
     "name": "stdout",
     "output_type": "stream",
     "text": [
      "56\n",
      "34\n",
      "1\n",
      "12\n",
      "4\n",
      "5\n",
      "9\n",
      "4\n",
      "3\n"
     ]
    }
   ],
   "source": [
    "for i in lista:\n",
    "    for j in i:\n",
    "        print(j)"
   ]
  },
  {
   "cell_type": "code",
   "execution_count": 18,
   "id": "fc885495",
   "metadata": {},
   "outputs": [
    {
     "name": "stdout",
     "output_type": "stream",
     "text": [
      "0 A\n",
      "1 B\n",
      "2 C\n",
      "2 C\n",
      "0 ['A', 'B', 'C']\n",
      "0 ['A', 'B', 'C']\n",
      "0 ['A', 'B', 'C']\n"
     ]
    }
   ],
   "source": [
    "lista = [\"A\", \"B\", \"C\"]\n",
    "for indice, valor in enumerate(lista):\n",
    "    print(indice, valor)\n",
    "\n",
    "print(indice,valor)\n",
    "\n",
    "for valor in lista:\n",
    "    contador =+ 0\n",
    "    print(contador, lista)"
   ]
  },
  {
   "cell_type": "markdown",
   "id": "e231ebfc",
   "metadata": {},
   "source": [
    "### Recorrer Tuplas"
   ]
  },
  {
   "cell_type": "code",
   "execution_count": 16,
   "id": "021995ee",
   "metadata": {},
   "outputs": [
    {
     "name": "stdout",
     "output_type": "stream",
     "text": [
      "apple\n",
      "<class 'str'>\n",
      "banana\n",
      "<class 'str'>\n",
      "cherry\n",
      "<class 'str'>\n",
      "45\n",
      "<class 'int'>\n",
      "89.25\n",
      "<class 'float'>\n"
     ]
    }
   ],
   "source": [
    "tupla = (\"apple\", \"banana\", \"cherry\", 45, 89.25)\n",
    "for i in tupla:\n",
    "    print(i)\n",
    "    print(type(i))"
   ]
  },
  {
   "cell_type": "code",
   "execution_count": 17,
   "id": "b0b9e830",
   "metadata": {},
   "outputs": [
    {
     "name": "stdout",
     "output_type": "stream",
     "text": [
      "0 apple\n",
      "1 banana\n",
      "2 cherry\n",
      "3 45\n",
      "4 89.25\n"
     ]
    }
   ],
   "source": [
    "tupla = (\"apple\", \"banana\", \"cherry\", 45, 89.25)\n",
    "for indice, valor in enumerate(tupla):\n",
    "    print(indice, valor)"
   ]
  },
  {
   "cell_type": "markdown",
   "id": "980f278a",
   "metadata": {},
   "source": [
    "### Recorrer Diccionarios"
   ]
  },
  {
   "cell_type": "code",
   "execution_count": 19,
   "id": "d39a322a",
   "metadata": {},
   "outputs": [
    {
     "name": "stdout",
     "output_type": "stream",
     "text": [
      "{'Nombre': 'Gandalf', 'Clase': 'Mago', 'Raza': 'Humano'}\n"
     ]
    }
   ],
   "source": [
    "gandalf = {'Nombre':'Gandalf','Clase':'Mago','Raza':'Humano'}\n",
    "\n",
    "print(gandalf)"
   ]
  },
  {
   "cell_type": "code",
   "execution_count": 20,
   "id": "3bbb0a81",
   "metadata": {},
   "outputs": [
    {
     "name": "stdout",
     "output_type": "stream",
     "text": [
      "Mago\n"
     ]
    }
   ],
   "source": [
    "print(gandalf[\"Clase\"])"
   ]
  },
  {
   "cell_type": "code",
   "execution_count": 22,
   "id": "85c41044",
   "metadata": {},
   "outputs": [
    {
     "name": "stdout",
     "output_type": "stream",
     "text": [
      "Nombre\n",
      "Clase\n",
      "Raza\n"
     ]
    }
   ],
   "source": [
    "for x in gandalf:   #Imprime las claves\n",
    "    print(x)"
   ]
  },
  {
   "cell_type": "code",
   "execution_count": 21,
   "id": "016526a5",
   "metadata": {},
   "outputs": [
    {
     "name": "stdout",
     "output_type": "stream",
     "text": [
      "Gandalf\n",
      "Mago\n",
      "Humano\n"
     ]
    }
   ],
   "source": [
    "for x in gandalf:   #Imprime los valores\n",
    "    print(gandalf[x])"
   ]
  },
  {
   "cell_type": "code",
   "execution_count": 25,
   "id": "e87bf816",
   "metadata": {},
   "outputs": [
    {
     "name": "stdout",
     "output_type": "stream",
     "text": [
      "dict_items([('Nombre', 'Gandalf'), ('Clase', 'Mago'), ('Raza', 'Humano')])\n",
      "Nombre Gandalf\n",
      "Clase Mago\n",
      "Raza Humano\n"
     ]
    }
   ],
   "source": [
    "print(gandalf.items())\n",
    "for x, y in gandalf.items():\n",
    "    print(x, y)"
   ]
  },
  {
   "cell_type": "markdown",
   "id": "13d39a2f",
   "metadata": {},
   "source": [
    "## USO DEL RANGE\n",
    "### El range() genera una secuencia de números que van desde 0 por defecto hasta el número que se pasa como parámetro menos 1.\n",
    "\n",
    "### range(inicio, fin, salto)\n"
   ]
  },
  {
   "cell_type": "code",
   "execution_count": 26,
   "id": "b9f1ee68",
   "metadata": {},
   "outputs": [
    {
     "name": "stdout",
     "output_type": "stream",
     "text": [
      "0\n",
      "1\n",
      "2\n",
      "3\n",
      "4\n",
      "5\n"
     ]
    }
   ],
   "source": [
    "for i in range(6):\n",
    "    print(i)"
   ]
  },
  {
   "cell_type": "code",
   "execution_count": 48,
   "id": "b1ed7f61",
   "metadata": {},
   "outputs": [
    {
     "name": "stdin",
     "output_type": "stream",
     "text": [
      "ingrese un numero 5\n"
     ]
    },
    {
     "name": "stdout",
     "output_type": "stream",
     "text": [
      "5 x 1 = 5\n",
      "5 x 2 = 10\n",
      "5 x 3 = 15\n",
      "5 x 4 = 20\n",
      "5 x 5 = 25\n",
      "5 x 6 = 30\n",
      "5 x 7 = 35\n",
      "5 x 8 = 40\n",
      "5 x 9 = 45\n",
      "5 x 10 = 50\n"
     ]
    }
   ],
   "source": [
    "#for i in range(0, 6):\n",
    " #   print(i)\n",
    "\n",
    "numero = int(input(\"ingrese un numero\"))\n",
    "for i in range(1,11):\n",
    "    print(numero,\"x\",i,\"=\",numero*i)"
   ]
  },
  {
   "cell_type": "code",
   "execution_count": null,
   "id": "56dad0cb",
   "metadata": {},
   "outputs": [],
   "source": [
    "a = 10\n",
    "for i in range(0,a):\n",
    "    print(i)"
   ]
  },
  {
   "cell_type": "code",
   "execution_count": null,
   "id": "2eee9584",
   "metadata": {},
   "outputs": [],
   "source": [
    "for i in range(5, 20, 2):\n",
    "    print(i)"
   ]
  },
  {
   "cell_type": "code",
   "execution_count": null,
   "id": "c7c8ffdc",
   "metadata": {},
   "outputs": [],
   "source": [
    "for i in range (5, 0, -1):\n",
    "    print(i)"
   ]
  },
  {
   "cell_type": "code",
   "execution_count": null,
   "id": "9d75139f",
   "metadata": {},
   "outputs": [],
   "source": [
    "lista = [[2, 3, 4], [5, 6, 7]]\n",
    "for i in lista:\n",
    "    print(i)\n",
    "    for j in i:\n",
    "        print(j)"
   ]
  },
  {
   "cell_type": "markdown",
   "id": "8310bd14",
   "metadata": {},
   "source": [
    "## List comprehensions\n",
    "### La “list comprehensions” o compresión de listas ofrecen una sintaxis más corta cuando desea crear una nueva lista basada en los valores de una lista existente."
   ]
  },
  {
   "cell_type": "code",
   "execution_count": null,
   "id": "f2c0de6e",
   "metadata": {},
   "outputs": [],
   "source": [
    "cuadrados = [i**2 for i in range(5)]\n",
    "for i in range(5):\n",
    "    print(i)\n",
    "print(cuadrados)"
   ]
  },
  {
   "cell_type": "code",
   "execution_count": null,
   "id": "b298e41d",
   "metadata": {},
   "outputs": [],
   "source": [
    "lista = [10, 20, 30, 40 , 50]\n",
    "nueva_lista = [i/10 for i in lista]\n",
    "print(nueva_lista)"
   ]
  },
  {
   "cell_type": "code",
   "execution_count": null,
   "id": "7af9805c",
   "metadata": {},
   "outputs": [],
   "source": [
    "fruits = [\"apple\", \"banana\", \"cherry\", \"kiwi\", \"mango\"]\n",
    "newlist = [x for x in fruits if \"e\" in x]\n",
    "print(newlist)"
   ]
  },
  {
   "cell_type": "code",
   "execution_count": null,
   "id": "212635f6",
   "metadata": {},
   "outputs": [],
   "source": [
    "newlist = [x for x in fruits if x != \"apple\"]\n",
    "print(newlist)"
   ]
  },
  {
   "cell_type": "code",
   "execution_count": null,
   "id": "25f4daef",
   "metadata": {},
   "outputs": [],
   "source": [
    "newlist = [x if x != \"banana\" else \"orange\" for x in fruits]\n",
    "print(newlist)"
   ]
  },
  {
   "cell_type": "markdown",
   "id": "d4030739",
   "metadata": {},
   "source": [
    "## Ejemplo\n",
    "### Crear una nueva lista llamada newlist, partiendo de la lista list, en donde guarde el cuadrado de los números pares y guarde el mismo número de los números impares."
   ]
  },
  {
   "cell_type": "code",
   "execution_count": null,
   "id": "151c865f",
   "metadata": {},
   "outputs": [],
   "source": [
    "import math\n",
    "list = [2, 3, 4, 5, 6, 7, 8, 9, 10]\n",
    "newlist = [math.pow(x, 2) if x%2 == 0 else x for x in list]\n",
    "print(newlist)"
   ]
  },
  {
   "cell_type": "markdown",
   "id": "170a443d",
   "metadata": {},
   "source": [
    "## Ejercicio"
   ]
  },
  {
   "cell_type": "code",
   "execution_count": null,
   "id": "572cb6bd",
   "metadata": {},
   "outputs": [],
   "source": [
    "lista = [2, 3, 4, 5, 10, 11, 16, 21]"
   ]
  },
  {
   "cell_type": "code",
   "execution_count": null,
   "id": "8b40772b",
   "metadata": {},
   "outputs": [],
   "source": [
    "import math\n",
    "\n",
    "resultado = [math.pow(x, 2) if x%2 == 0 else math.pow(x, 3) for x in lista]\n",
    "\n",
    "print(resultado)"
   ]
  },
  {
   "cell_type": "code",
   "execution_count": null,
   "id": "0f1fff36-bbc9-4e2a-9467-f7043fb5db3a",
   "metadata": {},
   "outputs": [],
   "source": []
  },
  {
   "cell_type": "code",
   "execution_count": null,
   "id": "51f8a880-55ab-4340-8fc1-011de4890f05",
   "metadata": {},
   "outputs": [],
   "source": []
  }
 ],
 "metadata": {
  "kernelspec": {
   "display_name": "Python 3 (ipykernel)",
   "language": "python",
   "name": "python3"
  },
  "language_info": {
   "codemirror_mode": {
    "name": "ipython",
    "version": 3
   },
   "file_extension": ".py",
   "mimetype": "text/x-python",
   "name": "python",
   "nbconvert_exporter": "python",
   "pygments_lexer": "ipython3",
   "version": "3.10.13"
  }
 },
 "nbformat": 4,
 "nbformat_minor": 5
}
