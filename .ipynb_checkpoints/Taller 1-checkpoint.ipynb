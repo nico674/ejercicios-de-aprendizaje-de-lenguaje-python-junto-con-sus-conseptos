{
 "cells": [
  {
   "cell_type": "markdown",
   "id": "51e6df71-e44d-4ac2-a1e4-02245a8aa67b",
   "metadata": {},
   "source": [
    "# TALLER 1 - PROGRAMACIÓN 1\n",
    "## Integrantes:\n",
    "### Lizeth Ginary Bonilla Chinchilla - 20222207521\n",
    "### Nicolas Diaz Vargas - 20212201463\n",
    "### Juan Camilo Moje Rivas - 20231213048\n",
    "### MATEO FERNANDO RUIZ LEON - 20222208813"
   ]
  },
  {
   "cell_type": "markdown",
   "id": "4d67a5ab-1368-427a-84b3-a1afd25bb83b",
   "metadata": {},
   "source": [
    "# punto A\n",
    "### suma de numeros de dos digitos"
   ]
  },
  {
   "cell_type": "code",
   "execution_count": 1,
   "id": "49847af3-f43c-47cb-b391-15d86316f530",
   "metadata": {},
   "outputs": [
    {
     "name": "stdin",
     "output_type": "stream",
     "text": [
      "Ingrese el primer número entero de dos dígitos:  23\n",
      "Ingrese el segundo número entero de dos dígitos:  45\n"
     ]
    },
    {
     "name": "stdout",
     "output_type": "stream",
     "text": [
      "La suma de todos los dígitos es: 14\n"
     ]
    }
   ],
   "source": [
    "# Solicitar al usuario ingresar dos números enteros de dos dígitos\n",
    "numero1 = int(input(\"Ingrese el primer número entero de dos dígitos: \"))\n",
    "numero2 = int(input(\"Ingrese el segundo número entero de dos dígitos: \"))\n",
    "\n",
    "# Obtener los dígitos individuales de cada número\n",
    "digito1_numero1 = numero1 // 10\n",
    "digito2_numero1 = numero1 % 10\n",
    "digito1_numero2 = numero2 // 10\n",
    "digito2_numero2 = numero2 % 10\n",
    "\n",
    "# Calcular la suma de todos los dígitos\n",
    "suma_digitos = digito1_numero1 + digito2_numero1 + digito1_numero2 + digito2_numero2\n",
    "\n",
    "# Imprimir el resultado\n",
    "print(\"La suma de todos los dígitos es:\", suma_digitos)"
   ]
  },
  {
   "cell_type": "markdown",
   "id": "d99ae3cc-7324-4a4e-b2d4-5f4e810b9395",
   "metadata": {},
   "source": [
    "### otra solucion al problema del punto A"
   ]
  },
  {
   "cell_type": "code",
   "execution_count": 2,
   "id": "a56e3b50-d432-4dc6-9459-7737ac9da922",
   "metadata": {},
   "outputs": [
    {
     "name": "stdin",
     "output_type": "stream",
     "text": [
      "ingrese un numero de dos digitos 23\n",
      "ingrese un numero de dos digitos 45\n"
     ]
    },
    {
     "name": "stdout",
     "output_type": "stream",
     "text": [
      "14.0\n"
     ]
    }
   ],
   "source": [
    "x = input(\"ingrese un numero de dos digitos\")\n",
    "y = input(\"ingrese un numero de dos digitos\")\n",
    "\n",
    "\n",
    "if int(x)<= 99 and int(y)<=99:\n",
    "    a = str(x)\n",
    "    b = str(y)\n",
    "      \n",
    "    suma = float(a[0]) + float(b[0])\n",
    "    suma1 = float(a[1]) + float(b[1])\n",
    "    total = suma1+suma\n",
    "    print(total)\n",
    "else:\n",
    "    print(\"el numero de digitos no valido\")"
   ]
  },
  {
   "cell_type": "markdown",
   "id": "8c296716-cb9a-47b4-8a50-f0b4c37a0790",
   "metadata": {},
   "source": [
    "# Punto B\n",
    " Escriba un algoritmo que solicite al usuario el ingreso de un número de cinco \n",
    "dígitos y lo invierta. Imprime el resultado."
   ]
  },
  {
   "cell_type": "code",
   "execution_count": 4,
   "id": "e165662d-fa31-4422-823e-2ab268fdd735",
   "metadata": {},
   "outputs": [
    {
     "name": "stdin",
     "output_type": "stream",
     "text": [
      "Ingrese un número de cinco dígitos:  67890\n"
     ]
    },
    {
     "name": "stdout",
     "output_type": "stream",
     "text": [
      "El número invertido es: 09876\n"
     ]
    }
   ],
   "source": [
    "# Solicitar al usuario ingresar un número de cinco dígitos\n",
    "numero = input(\"Ingrese un número de cinco dígitos: \")\n",
    "\n",
    "# Verificar si el número tiene cinco dígitos\n",
    "if len(numero) != 5 or not numero.isdigit():\n",
    "    print(\"Por favor, ingrese un número válido de cinco dígitos.\")\n",
    "else:\n",
    "    # Invertir el número\n",
    "    numero_invertido = numero[::-1]\n",
    "    \n",
    "    # Imprimir el resultado\n",
    "    print(\"El número invertido es:\", numero_invertido)"
   ]
  },
  {
   "cell_type": "markdown",
   "id": "1f31be88-892b-4f3b-ab00-88407581e6d5",
   "metadata": {},
   "source": [
    "# punto C\n",
    "## misterio del templo\n",
    "- El explorador debe tener al menos 25 años, o si es menor, su compañero debe\r\n",
    "tener más de 30 años.\r\n",
    "- La suma de las edades de ambos exploradores debe ser divisible entre 5.\r\n",
    "- Al menos uno de ellos debe tener un mapa de la ubicación exacta del tesoro."
   ]
  },
  {
   "cell_type": "code",
   "execution_count": null,
   "id": "665ef34d-239f-4c03-8e68-5ad70e3d081f",
   "metadata": {},
   "outputs": [],
   "source": [
    "def validacionMapa():\n",
    "        mapa=input(\"¿Alguno de los exploradores tiene un mapa? SI/NO: \").upper()\n",
    "        while len(mapa) != 2 or (mapa != \"SI\" and mapa != \"NO\"):\n",
    "                print(\"¡Error! ingrese una respuesta correcta\")\n",
    "                mapa = input(\"¿Alguno de los exploradores tiene un mapa? SI/NO:\").upper()\n",
    "        return mapa\n",
    "\n",
    "def validacionAcceso(exploardor1,explorador2,mapa):\n",
    "        if(exploardor1>=25 or explorador2>30) and ((exploardor1 + explorador2) % 5 ==0):\n",
    "                if mapa == \"SI\":\n",
    "                        return \"SI\"\n",
    "                else:\n",
    "                        return \"NO\"\n",
    "        else:\n",
    "                return \"NO\"\n",
    "\n",
    "primerExplorador =int(input(\"Ingrese la edad del primér eplorador: \"))\n",
    "segundoExplorador =int(input(\"Ingrese la edad del segundo eplorador: \"))\n",
    "mapaTesoro = validacionMapa()\n",
    "\n",
    "acceso = validacionAcceso(primerExplorador,segundoExplorador,mapaTesoro)\n",
    "\n",
    "print(\"Ustedes\", acceso, \"pueden acceder al tesoro\")\n",
    "\n",
    "\n"
   ]
  },
  {
   "cell_type": "markdown",
   "id": "c2a36345-d99a-498f-96fb-d0f59e8800b4",
   "metadata": {},
   "source": [
    "# punto D\n",
    "## Bono de fin de año\n",
    "En la empresa X, el bono de fin de año para los empleados se determina según su\n",
    "desempeño a lo largo del año. Cada empleado recibe una calificación entre 1 y 30\n",
    "de su supervisor, basada en su productividad y su habilidad para resolver\n",
    "problemas. El bono se calcula como un porcentaje del salario anual del empleado.\n",
    "\n",
    "Los empleados que obtienen una calificación total de al menos 50 y al menos 20\r\n",
    "puntos en cada factor recibirán un bono equivalente al 10% de su salario anual.\r\n",
    "Los demás empleados recibirán un bono del 5% de su salario anual.\r\n",
    "Escriba un algoritmo que, dados los puntos de productividad y habilidad para\r\n",
    "resolver problemas de un empleado, determine el porcentaje de bonificación que\r\n",
    "recibirá (0.05 para el 5% y 0.1 para el 10%)."
   ]
  },
  {
   "cell_type": "code",
   "execution_count": 6,
   "id": "0f3bf288-967e-45e7-b8a3-c8d1c53df584",
   "metadata": {},
   "outputs": [
    {
     "name": "stdout",
     "output_type": "stream",
     "text": [
      "Registrando la calificación de productividad del empleado: \n"
     ]
    },
    {
     "name": "stdin",
     "output_type": "stream",
     "text": [
      "Ingrese el puntaje (1-30):  30\n"
     ]
    },
    {
     "name": "stdout",
     "output_type": "stream",
     "text": [
      "Registrando la calificación de habilidad del empleado: \n"
     ]
    },
    {
     "name": "stdin",
     "output_type": "stream",
     "text": [
      "Ingrese el puntaje (1-30):  30\n"
     ]
    },
    {
     "name": "stdout",
     "output_type": "stream",
     "text": [
      "El empleado éste año tendrá un bono de 10.0 %\n"
     ]
    }
   ],
   "source": [
    "def calculoBono(productividad, habilidad):\n",
    "    calificaionTotal = productividad + habilidad\n",
    "    if calificaionTotal >= 50 and productividad >= 20 and habilidad >= 20:\n",
    "        return 0.10\n",
    "    else:\n",
    "        return 0.05\n",
    "\n",
    "def validacionPuntaje():\n",
    "    puntaje = int(input(\"Ingrese el puntaje (1-30): \"));\n",
    "    while puntaje <1 or puntaje>30:\n",
    "        print(\"¡Error! El puntaje debe estar entre 1 y 30\")\n",
    "        puntaje = int(input(\"Ingrese el puntaje (1-30): \"));\n",
    "    return puntaje\n",
    "\n",
    "print(\"Registrando la calificación de productividad del empleado: \")\n",
    "puntosProductividad = validacionPuntaje()\n",
    "print(\"Registrando la calificación de habilidad del empleado: \")\n",
    "puntosHabilidad = validacionPuntaje()\n",
    "\n",
    "porcentajeBono = calculoBono(puntosProductividad, puntosHabilidad)\n",
    "\n",
    "print(\"El empleado éste año tendrá un bono de\", porcentajeBono * 100, \"%\")"
   ]
  },
  {
   "cell_type": "markdown",
   "id": "2c5de144-c882-4a28-b3b2-6e53d9e171c9",
   "metadata": {},
   "source": [
    "# Punto E\n",
    "Determine si en una lista hay números duplicados.\n",
    "\n",
    "-Mediante una descripción corta y el uso de la entrada de datos por teclado, el\n",
    "usuario escogerá si desea crear la lista ingresando manualmente los números\n",
    "(mínimo 8) o si los desea general aleatoria y automáticamente.\n",
    "\n",
    "-Si escoge ingresarlos manualmente, el sistema primero le pedirá que ingrese la\n",
    "cantidad de números que va a solicitar, luego, le pedirá el ingreso mediante teclado\n",
    "de cada número y los guardará en una lista. (mínimo 8).\n",
    "\n",
    "-Si escoge generarlos aleatoria y automáticamente, cree una función que genere\n",
    "una lista de 20 números aleatorios del 1 al 100.\n",
    "\n",
    "-Al finalizar, se debe verificar, mediante una función u otro método, para que tome\n",
    "esa lista (generada manual o aleatoriamente) y devuelva True si tiene algún\n",
    "elemento duplicado y False si no los tiene. La función no debe modificar la lista"
   ]
  },
  {
   "cell_type": "code",
   "execution_count": 1,
   "id": "3641dce3-1457-4a1b-81e9-104ec7832d78",
   "metadata": {},
   "outputs": [
    {
     "name": "stdin",
     "output_type": "stream",
     "text": [
      "Si desea crear una lista manualmente marque 1, si desea crearla aletoriamente marque 2 1\n",
      "Ingrese la cantidad de números que va a ingresar (mínimo 8): 8\n",
      "Ingrese el número:  1\n",
      "Ingrese el número:  2\n",
      "Ingrese el número:  3\n",
      "Ingrese el número:  4\n",
      "Ingrese el número:  5\n",
      "Ingrese el número:  6\n",
      "Ingrese el número:  7\n",
      "Ingrese el número:  8\n"
     ]
    },
    {
     "name": "stdout",
     "output_type": "stream",
     "text": [
      "La lista no contiene números duplicados\n"
     ]
    }
   ],
   "source": [
    "import random\n",
    "\n",
    "# Función que solicita al usuario que elija cómo crear la lista y valida que ingrese un valor correcto\n",
    "def validarOpcion():\n",
    "    opcion = int(input(\"Si desea crear una lista manualmente marque 1, si desea crearla aletoriamente marque 2\"))\n",
    "    while opcion <1 or opcion >2:\n",
    "        print(\"Opción no válida\")\n",
    "        opcion = int(input(\"Si desea crear una lista manualmente marque 1, si desea crearla aletoriamente marque 2\"))\n",
    "    return opcion\n",
    "\n",
    "# Función para crear una lista ingresando manualmente los números\n",
    "def crearListaManualmente():\n",
    "    cantidadNumeros = int(input(\"Ingrese la cantidad de números que va a ingresar (mínimo 8):\"))\n",
    "    while cantidadNumeros < 8:\n",
    "        print(\"Debe ingresar al menos 8 números\")\n",
    "        cantidadNumeros = int(input(\"Ingrese la cantidad de números que va a ingresar (mínimo 8):\"))\n",
    "    numeros = []\n",
    "    for _ in range(cantidadNumeros):\n",
    "        numero = int(input(\"Ingrese el número: \"))\n",
    "        numeros.append(numero)\n",
    "    return numeros\n",
    "\n",
    "# Función para generar una lista de 20 números aleatorios del 1 al 100\n",
    "def crearListaAleatoriamente():\n",
    "    return [random.randint(1,100) for _ in range(20)]\n",
    "\n",
    "# Función para verificar si hay números duplicados en una lista\n",
    "def verificacionNumeros(lista):\n",
    "    return len(lista) != len(set(lista))\n",
    "\n",
    "# Solicitar al usuario que elija cómo crear la lista\n",
    "opcion = validarOpcion()\n",
    "\n",
    "if opcion == 1:\n",
    "    lista=crearListaManualmente()\n",
    "else:\n",
    "    lista=crearListaAleatoriamente()\n",
    "\n",
    "# Verificar si hay números duplicados en la lista y mostrar el resultado\n",
    "if verificacionNumeros(lista):\n",
    "    print(\"La lista contiene números duplicados\")\n",
    "else:\n",
    "    print(\"La lista no contiene números duplicados\")"
   ]
  },
  {
   "cell_type": "markdown",
   "id": "b1652342-edba-43e5-b14c-c793f89c0662",
   "metadata": {},
   "source": [
    "# Punto F\n",
    "## Sistema de calificacion de notas\n",
    "sistema de calificacion alfanumerico\n",
    "\n",
    "- Nota: NotaAlfanumérica\r\n",
    "- 00 - 59: F\r\n",
    "- 60 - 69: D\r\n",
    "- 70 - 79: C\r\n",
    "- 80 - 89: B\r\n",
    "- 90 - 100: A"
   ]
  },
  {
   "cell_type": "code",
   "execution_count": 12,
   "id": "fe33385a-3e1f-463b-8e65-f6f597931c72",
   "metadata": {},
   "outputs": [
    {
     "name": "stdin",
     "output_type": "stream",
     "text": [
      "ingrese la nota en forma de numero 50\n"
     ]
    },
    {
     "name": "stdout",
     "output_type": "stream",
     "text": [
      "Calificación numérica: 50\n",
      "Calificación alfanumérica: F\n"
     ]
    }
   ],
   "source": [
    "def convertir_calificacion(nota_numerica):\n",
    "  \"\"\"\n",
    "  Convierte una calificación numérica a alfanumérica.\n",
    "\n",
    "  Argumentos:\n",
    "    nota_numerica: La calificación numérica (entre 1 y 100).\n",
    "\n",
    "  Retorno:\n",
    "    La calificación alfanumérica.\n",
    "  \"\"\"\n",
    "\n",
    "  if not 0 <= nota_numerica <= 100:\n",
    "    raise ValueError(\"La calificación numérica debe estar entre 0 y 100\")\n",
    "\n",
    "  if nota_numerica >= 90:\n",
    "    return \"A\"\n",
    "  elif nota_numerica >= 80:\n",
    "    return \"B\"\n",
    "  elif nota_numerica >= 70:\n",
    "    return \"C\"\n",
    "  elif nota_numerica >= 60:\n",
    "    return \"D\"\n",
    "  else:\n",
    "    return \"F\"\n",
    "\n",
    "# Ejemplo de uso\n",
    "nota_numerica = int(input(\"ingrese la nota en forma de numero\"))\n",
    "calificacion_alfanumerica = convertir_calificacion(nota_numerica)\n",
    "print(f\"Calificación numérica: {nota_numerica}\")\n",
    "print(f\"Calificación alfanumérica: {calificacion_alfanumerica}\")\n"
   ]
  },
  {
   "cell_type": "markdown",
   "id": "667eee97-9ac0-41e1-955d-92e0900dd5c2",
   "metadata": {},
   "source": [
    "# otra forma de solucionar el problema del punto F\n"
   ]
  },
  {
   "cell_type": "code",
   "execution_count": 11,
   "id": "32feaf0f-1f48-4e1b-b5b7-a78037017aaa",
   "metadata": {},
   "outputs": [
    {
     "name": "stdin",
     "output_type": "stream",
     "text": [
      "Ingrese la nota numérica:  50\n"
     ]
    },
    {
     "name": "stdout",
     "output_type": "stream",
     "text": [
      "La nota alfanumérica equivalente es: F\n"
     ]
    }
   ],
   "source": [
    "def obtener_nota_alfanumerica(nota_numerica):\n",
    "\n",
    "  if not isinstance(nota_numerica, int) or not 1 <= nota_numerica <= 100:\n",
    "    raise ValueError(\"La nota numérica debe ser un entero entre 1 y 100.\")\n",
    "\n",
    "  if nota_numerica <= 59:\n",
    "    return \"F\"\n",
    "  elif nota_numerica <= 69:\n",
    "    return \"D\"\n",
    "  elif nota_numerica <= 79:\n",
    "    return \"C\"\n",
    "  elif nota_numerica <= 89:\n",
    "    return \"B\"\n",
    "  else:\n",
    "    return \"A\"\n",
    "\n",
    "nota_numerica = int(input(\"Ingrese la nota numérica: \"))\n",
    "nota_alfanumerica = obtener_nota_alfanumerica(nota_numerica)\n",
    "print(f\"La nota alfanumérica equivalente es: {nota_alfanumerica}\")"
   ]
  },
  {
   "cell_type": "markdown",
   "id": "5abc4c28-e0c4-4cfd-b580-07b79518726b",
   "metadata": {},
   "source": [
    "# punto G\n",
    "inmovilaria CIA\n",
    "\n",
    "La inmobiliaria CIA, maneja una lista de inmuebles para la venta, como la siguiente:\r\n",
    "\r\n",
    "[{'casa':'Casa 1', 'año': 2000, 'metros': 100, 'habitaciones': 3, 'garaje': True, 'zona': 'A'},\r\n",
    "\r\n",
    "{'casa':'Casa 2', 'año': 2012, 'metros': 60, 'habitaciones': 2, 'garaje': True, 'zona': 'B'},\r\n",
    "\r\n",
    "{'casa':'Casa 3', 'año': 1980, 'metros': 120, 'habitaciones': 4, 'garaje': False, 'zona': 'A'},\r\n",
    "\r\n",
    "{'casa':'Casa 4', 'año': 2005, 'metros': 75, 'habitaciones': 3, 'garaje': True, 'zona': 'B'},\r\n",
    "\r\n",
    "Escribir un algoritmo que permita hacerle búsqueda al cliente en función de su presupuesto.\r\n",
    "\r\n",
    "Para esto el script debe solicitarle al cliente dicho valor mediante una entrada de datos por teclado y devolverle la información de las casas que puede comprar con su presupuesto (todas las casas con precios menores o iguales al presupuesto), de la siguiente manera:\r\n",
    "\r\n",
    "Puede comprar la casa Casa 1 que tiene 200 metros, 6 habitaciones, Si cuenta con garaje, tiene 15 años de antigüedad y un valor de $42000000 pesos. Puede comprar la casa Casa 3 que tiene 120 metros, 4 habitaciones, No cuenta con garaje, tiene 42 años de antigüedad y un valor de 34000000pesos.\r\n",
    "\r\n",
    "Si el presupuesto no le alcanza para comprar ninguna casa, le saldrá el mensaje: Lastimosamente, con ese presupuesto no puede comprar ninguna vivienda.\r\n",
    "\r\n",
    "Para calcular antigüedad, se toma como referencia el año actual (2024) y sería la resta entre 2024 y año de la casa que aparece en la lista, por ejemplo, para la ‘Casa 1’ la antigüedad sería de 2024 – 2000 = 24 años. Los rangos de los precios según la antigüedad se muestran en la siguiente tabla:\r\n",
    "\r\n",
    "g.jpg\r\n",
    "\r\n",
    "El precio de la casa se calcula con la siguiente fórmula en función de la zona:\r\n",
    "\r\n",
    "Precio ZONA A = metros * 100000 + habitaciones * 500000 + garaje * 1500000 + valor_antiguedad\r\n",
    "\r\n",
    "Precio ZONA B = metros * 200000 + habitaciones * 600000 + garaje * 2500000 + valor_antiguedad"
   ]
  },
  {
   "cell_type": "code",
   "execution_count": 2,
   "id": "d3187e4c-bdcb-4850-909a-645d3f3ec222",
   "metadata": {},
   "outputs": [
    {
     "name": "stdin",
     "output_type": "stream",
     "text": [
      "Ingrese su presupuesto:  50\n"
     ]
    },
    {
     "name": "stdout",
     "output_type": "stream",
     "text": [
      "Lastimosamente, con ese presupuesto no puede comprar ninguna vivienda\n"
     ]
    }
   ],
   "source": [
    "inmuebles = [{'casa':'Casa 1', 'año': 2000, 'metros': 100, 'habitaciones': 3, 'garaje': True, 'zona': 'A'},\n",
    "             {'casa':'Casa 2', 'año': 2012, 'metros': 60, 'habitaciones': 2, 'garaje': True, 'zona': 'B'},\n",
    "             {'casa':'Casa 3', 'año': 1980, 'metros': 120, 'habitaciones': 4, 'garaje': False, 'zona': 'A'},\n",
    "             {'casa':'Casa 4', 'año': 2005, 'metros': 75, 'habitaciones': 3, 'garaje': True, 'zona': 'B'},\n",
    "             {'casa':'Casa 5', 'año': 2015, 'metros': 90, 'habitaciones': 2, 'garaje': False, 'zona': 'A'}]\n",
    "\n",
    "presupuesto = float(input(\"Ingrese su presupuesto: \"))\n",
    "\n",
    "casas_encontradas = False\n",
    "\n",
    "for casa in inmuebles:\n",
    "\n",
    "    antiguedad = 2024 - casa['año']\n",
    "\n",
    "    if antiguedad <= 10:\n",
    "        valor_antiguedad = 50000000\n",
    "    elif antiguedad <= 20:\n",
    "        valor_antiguedad = 40000000\n",
    "    elif antiguedad <= 30:\n",
    "        valor_antiguedad = 30000000\n",
    "    else:\n",
    "        valor_antiguedad = 20000000\n",
    "\n",
    "    if casa['zona'] == 'A':\n",
    "        precio_casa = casa['metros'] * 100000 + casa['habitaciones'] * 500000 + casa['garaje'] * 1500000 + valor_antiguedad\n",
    "    else:\n",
    "        precio_casa = casa['metros'] * 200000 + casa['habitaciones'] * 600000 + casa['garaje'] * 2500000 + valor_antiguedad\n",
    "\n",
    "    if precio_casa <= presupuesto:\n",
    "        casas_encontradas = True\n",
    "        print(f\"Puede comprar la casa {casa['casa']} que tiene {casa['metros']} metros cuadrados, {casa['habitaciones']} habitaciones, {'Si cuenta con' if casa['garaje'] else 'No cuenta con'} garaje, {antiguedad} años de antigüedad y un valor de ${precio_casa} pesos.\")\n",
    "\n",
    "if not casas_encontradas:\n",
    "    print(\"Lastimosamente, con ese presupuesto no puede comprar ninguna vivienda\")"
   ]
  },
  {
   "cell_type": "markdown",
   "id": "8c0592d2-7873-4c97-a334-343d9161e8d0",
   "metadata": {},
   "source": [
    "# punto H\n",
    "Escriba un algoritmo que lea un número entero positivo N mayor que 50 (valida\n",
    "el número y si es menor de 50 retorna \"Error en el número\"). Si N termina en 2, 4\n",
    "o 8, determina si es divisible por 5, si termina en 3 ó 7, calcula su doble, en otro\n",
    "caso, suma 25 al número."
   ]
  },
  {
   "cell_type": "code",
   "execution_count": 11,
   "id": "560871c6-a34e-4029-93c0-3e93271c4bc2",
   "metadata": {},
   "outputs": [
    {
     "name": "stdin",
     "output_type": "stream",
     "text": [
      "Ingrese un número entero positivo mayor que 50:  67\n"
     ]
    },
    {
     "name": "stdout",
     "output_type": "stream",
     "text": [
      "El doble de 67 es 134\n"
     ]
    }
   ],
   "source": [
    "# Leer un número entero positivo N mayor que 50\n",
    "N = int(input(\"Ingrese un número entero positivo mayor que 50: \"))\n",
    "\n",
    "# Validar si N es mayor que 50\n",
    "if N <= 50:\n",
    "    print(\"Error en el número\")\n",
    "else:\n",
    "    # Determinar si N termina en 2, 4 o 8\n",
    "    if N % 10 == 2 or N % 10 == 4 or N % 10 == 8:\n",
    "        # Verificar si es divisible por 5\n",
    "        if N % 5 == 0:\n",
    "            print(f\"{N} es divisible por 5\")\n",
    "        else:\n",
    "            print(f\"{N} no es divisible por 5\")\n",
    "    # Determinar si N termina en 3 ó 7\n",
    "    elif N % 10 == 3 or N % 10 == 7:\n",
    "        # Calcular el doble de N\n",
    "        doble_N = N * 2\n",
    "        print(f\"El doble de {N} es {doble_N}\")\n",
    "    else:\n",
    "        # Sumar 25 al número\n",
    "        N += 25\n",
    "        print(f\"{N} + 25 = {N}\")"
   ]
  },
  {
   "cell_type": "markdown",
   "id": "40a3b5f9-6bdb-4d06-a0ca-b4a7f0c0dde4",
   "metadata": {},
   "source": [
    "# i) Adivinanzas\n",
    "\n",
    "adivinar un numerosecreto\n",
    "\n",
    "En un juego de adivinanzas, un jugador debe adivinar un número secreto. El\n",
    "jugador tiene un número limitado de intentos, y después de cada intento, el juego\n",
    "le dirá si el número que ha ingresado es mayor o menor que el número secreto. Si\n",
    "el jugador adivina el número secreto dentro de los intentos permitidos, gana; de\n",
    "lo contrario, pierde. Escriba un algoritmo para que un jugador pueda ingresar el\n",
    "número secreto y el número total de intentos, y el juego le diga si gana o pierde."
   ]
  },
  {
   "cell_type": "code",
   "execution_count": 2,
   "id": "ce48f545-3b08-4b09-9e6d-0484c618a414",
   "metadata": {},
   "outputs": [
    {
     "name": "stdout",
     "output_type": "stream",
     "text": [
      "El juego de adivinazas\n",
      "Usted va ingresar su numero de intentos\n"
     ]
    },
    {
     "name": "stdin",
     "output_type": "stream",
     "text": [
      "ingrese un numero -> 1\n",
      "\n",
      "\n",
      "elija el rango de numeros positivos que quiere adivinar 90\n",
      "\n",
      "\n",
      "ingresa un numero para adivinar: 60\n"
     ]
    },
    {
     "name": "stdout",
     "output_type": "stream",
     "text": [
      "vuelve a intentarlo \n",
      " el numero es menor\n",
      "tiene  0 numero de intentos\n"
     ]
    },
    {
     "name": "stdin",
     "output_type": "stream",
     "text": [
      "\n",
      "\n",
      "ingresa un numero para adivinar: 41\n"
     ]
    },
    {
     "name": "stdout",
     "output_type": "stream",
     "text": [
      "perdiste\n"
     ]
    }
   ],
   "source": [
    "import random\n",
    "\n",
    "print(\"El juego de adivinazas\\nUsted va ingresar su numero de intentos\")\n",
    "numeroIntentos = int(input(\"ingrese un numero ->\" ))\n",
    "rangoNumeros=int(input(\"\\n\\nelija el rango de numeros positivos que quiere adivinar\"))\n",
    "\n",
    "def numeroSecreto(Num):\n",
    "    return  random.randint(1,rangoNumeros)\n",
    "s = numeroSecreto(rangoNumeros)\n",
    "\n",
    "def verificacionIntentos(intentos,secretnum):\n",
    "    #print(\"el numero es:\",s)\n",
    "    i = 0\n",
    "    \n",
    "    while True:\n",
    "        adivina = int(input(\"\\n\\ningresa un numero para adivinar:\"))    \n",
    "        \n",
    "        if adivina == s:\n",
    "            print(\"ganaste\")\n",
    "            break\n",
    "        \n",
    "        elif intentos == 0:\n",
    "            print(\"perdiste\")\n",
    "            break\n",
    "            \n",
    "        elif adivina < s:\n",
    "            print(\"vuelve a intentarlo \\n el numero es mayor\")\n",
    "\n",
    "        elif adivina > s:\n",
    "            print (\"vuelve a intentarlo \\n el numero es menor\")\n",
    "        \n",
    "        \n",
    "        intentos -= 1    \n",
    "        print(\"tiene \",intentos,\"numero de intentos\")    \n",
    "        \n",
    "        \n",
    "m = verificacionIntentos(numeroIntentos,s)\n"
   ]
  },
  {
   "cell_type": "markdown",
   "id": "2f9457cc-5281-4cf7-bbeb-1cec4341fe6c",
   "metadata": {},
   "source": [
    "# j) numero primo \n",
    "Un número primo es un número natural mayor que 1 que tiene únicamente dos\r\n",
    "divisores positivos distintos: él mismo y el 1. Con base a esto, escriba un algoritmo\r\n",
    "que reciba un número entero e imprima True si el número es primo, de lo contrario\r\n",
    "imprima False.\r\n",
    "Tenga en cuenta que, si el número es menor o igual a 1, se retorna como resultado\r\n",
    "\"Error en el Número\"."
   ]
  },
  {
   "cell_type": "code",
   "execution_count": 13,
   "id": "f1598124-805e-48f7-871c-fff4cd346c16",
   "metadata": {},
   "outputs": [
    {
     "name": "stdout",
     "output_type": "stream",
     "text": [
      "comprobar si el numero es primo o no\n",
      " solamente sirve para numeros pequeños,\n",
      " para hallar numeros mas grandes de 6 o 7 digitos es mas complicado.\n"
     ]
    },
    {
     "name": "stdin",
     "output_type": "stream",
     "text": [
      "ingrese un numero razonablemente pequeño 2\n"
     ]
    },
    {
     "name": "stdout",
     "output_type": "stream",
     "text": [
      "True\n"
     ]
    }
   ],
   "source": [
    "print(\"comprobar si el numero es primo o no\\n solamente sirve para numeros pequeños,\\n para hallar numeros mas grandes de 6 o 7 digitos es mas complicado.\")\n",
    "\n",
    "numero = int(input(\"ingrese un numero razonablemente pequeño\"))\n",
    "def numPrimo(numero):\n",
    "    if numero <= 1:\n",
    "        print(\"Error en el numero\")\n",
    "    \n",
    "    for n in range(2, numero):\n",
    "        if numero % n == 0:\n",
    "            return False\n",
    "    return True\n",
    "\n",
    "primo = numPrimo(numero)\n",
    "print(primo)"
   ]
  },
  {
   "cell_type": "markdown",
   "id": "c58f369c-3713-44b2-b508-7e17834958ba",
   "metadata": {},
   "source": [
    "# K) el numero perfecto\n",
    "Crea una función “perfecto” que reciba como parámetro un número entero N y\r\n",
    "determine si es un número perfecto. Un número perfecto es aquel que es igual a\r\n",
    "la suma de sus divisores positivos (excluyendo él mismo). Si el número es\r\n",
    "perfecto, debe retornar True; de lo contrario, False. Además, crea una función\r\n",
    "“reto2” que recibe un número entero X como parámetro y valida todos los\r\n",
    "números desde 1 hasta X, llamando a la función “perfecto”, e imprime todos los\r\n",
    "números perfectos encontrados."
   ]
  },
  {
   "cell_type": "code",
   "execution_count": 5,
   "id": "dddde22e-85a0-4745-a396-e6f1ee77e413",
   "metadata": {},
   "outputs": [
    {
     "name": "stdin",
     "output_type": "stream",
     "text": [
      "ingrese un numero para determinar si es perfecto 90\n"
     ]
    },
    {
     "name": "stdout",
     "output_type": "stream",
     "text": [
      "False\n"
     ]
    }
   ],
   "source": [
    "\n",
    "#creo una funcion que determina un numero perfecto ejemplo el numero 6\n",
    "#6 es divisible entre 1,2,3 la suma de ellos es 6\n",
    "X = int(input(\"ingrese un numero para determinar si es perfecto\"))\n",
    "\n",
    "def perfecto(N):\n",
    "    sum = 0\n",
    "    for o in range(1,N):\n",
    "        if N % o == 0:\n",
    "            #print(N%o)\n",
    "            sum += o\n",
    "    if sum == N:\n",
    "        return True\n",
    "    elif sum != N:\n",
    "        return False\n",
    "                \n",
    "           \n",
    "#m = perfecto(p)\n",
    "#print(m)\n",
    "\n",
    "def reto2(X):\n",
    "    m = perfecto(X)        \n",
    "    return m\n",
    "n = reto2(X)\n",
    "print(n)"
   ]
  }
 ],
 "metadata": {
  "kernelspec": {
   "display_name": "Python 3 (ipykernel)",
   "language": "python",
   "name": "python3"
  },
  "language_info": {
   "codemirror_mode": {
    "name": "ipython",
    "version": 3
   },
   "file_extension": ".py",
   "mimetype": "text/x-python",
   "name": "python",
   "nbconvert_exporter": "python",
   "pygments_lexer": "ipython3",
   "version": "3.10.13"
  }
 },
 "nbformat": 4,
 "nbformat_minor": 5
}
