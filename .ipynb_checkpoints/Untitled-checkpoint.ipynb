{
 "cells": [
  {
   "cell_type": "code",
   "execution_count": 2,
   "id": "fbfba546-b0d4-4540-885c-878a08389f25",
   "metadata": {},
   "outputs": [
    {
     "name": "stdout",
     "output_type": "stream",
     "text": [
      "<module 'math' (built-in)>\n"
     ]
    }
   ],
   "source": [
    "import math\n",
    "\n",
    "math.pi\n",
    "print(math)"
   ]
  },
  {
   "cell_type": "markdown",
   "id": "0862318b-15f0-41fe-9cd0-f1486e715b44",
   "metadata": {},
   "source": [
    "## Tipo de Dato String\n",
    "\n",
    "# slicing"
   ]
  },
  {
   "cell_type": "code",
   "execution_count": null,
   "id": "6d4fad90-934d-4a90-b1cf-65d6bf711897",
   "metadata": {},
   "outputs": [],
   "source": []
  },
  {
   "cell_type": "code",
   "execution_count": 1,
   "id": "98131d6c-a5e2-4ba2-9e5c-860036dfe3ee",
   "metadata": {},
   "outputs": [],
   "source": []
  },
  {
   "cell_type": "markdown",
   "id": "4eab5a2a-c556-4eb1-8ae9-8b6220c218be",
   "metadata": {},
   "source": [
    "# ejercio"
   ]
  },
  {
   "cell_type": "code",
   "execution_count": 14,
   "id": "f989b063-0b7f-4838-95da-8041fca5ddef",
   "metadata": {},
   "outputs": [
    {
     "name": "stdout",
     "output_type": "stream",
     "text": [
      "El nombre es Nicolas El apellido es Diaz \n"
     ]
    }
   ],
   "source": [
    "text = \"Mi%nombre%es;Nicolas;Mi%apellido%es;Diaz;\"\n",
    "#El nombre y el apellido oculto es Nicolas Diaz\n",
    "\n",
    "text = text.replace(\"%\",\" \") \n",
    "text = text.replace(\";\",\" \")\n",
    "text = text.replace(\"Mi\",\"El\")\n",
    "print (text)\n"
   ]
  }
 ],
 "metadata": {
  "kernelspec": {
   "display_name": "Python 3 (ipykernel)",
   "language": "python",
   "name": "python3"
  },
  "language_info": {
   "codemirror_mode": {
    "name": "ipython",
    "version": 3
   },
   "file_extension": ".py",
   "mimetype": "text/x-python",
   "name": "python",
   "nbconvert_exporter": "python",
   "pygments_lexer": "ipython3",
   "version": "3.10.13"
  }
 },
 "nbformat": 4,
 "nbformat_minor": 5
}
