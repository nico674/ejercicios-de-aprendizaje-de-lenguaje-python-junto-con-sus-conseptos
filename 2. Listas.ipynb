{
 "cells": [
  {
   "cell_type": "markdown",
   "id": "44feb908",
   "metadata": {},
   "source": [
    "# Estructuras y Colecciones de datos\n",
    "## Docente: Gustavo Humberto Polanía Mogollón"
   ]
  },
  {
   "cell_type": "markdown",
   "id": "0c0ff739",
   "metadata": {},
   "source": [
    "# LISTAS\n",
    "### Una lista es una estructura de datos que contiene una colección o secuencia de datos. Los datos o elementos de una lista deben ir separados con una coma y todo el conjunto entre corchetes. Se dice que una lista es una estructura mutable porque además de permitir el acceso a los elementos, pueden suprimirse o agregarse nuevos."
   ]
  },
  {
   "cell_type": "code",
   "execution_count": 2,
   "id": "fa26e726",
   "metadata": {},
   "outputs": [
    {
     "data": {
      "text/plain": [
       "['Invierno', 'Primavera', 'Verano', 'Otoño']"
      ]
     },
     "execution_count": 2,
     "metadata": {},
     "output_type": "execute_result"
    }
   ],
   "source": [
    "Lista = [\"Invierno\", \"Primavera\", \"Verano\", \"Otoño\"]\n",
    "Lista"
   ]
  },
  {
   "cell_type": "code",
   "execution_count": 3,
   "id": "8be7ea2f",
   "metadata": {},
   "outputs": [
    {
     "data": {
      "text/plain": [
       "'Verano'"
      ]
     },
     "execution_count": 3,
     "metadata": {},
     "output_type": "execute_result"
    }
   ],
   "source": [
    "Lista[2]"
   ]
  },
  {
   "cell_type": "markdown",
   "id": "2e31b388",
   "metadata": {},
   "source": [
    "### Para definir una lista vacía, a la que con posterioridad se podría agregar elementos, existen dos posibilidades:"
   ]
  },
  {
   "cell_type": "code",
   "execution_count": 4,
   "id": "743e2d3d",
   "metadata": {},
   "outputs": [
    {
     "name": "stdout",
     "output_type": "stream",
     "text": [
      "[]\n",
      "[]\n",
      "<class 'list'>\n",
      "<class 'list'>\n"
     ]
    }
   ],
   "source": [
    "lista = []\n",
    "lista1 = list()\n",
    "print(lista)\n",
    "print(lista1)\n",
    "print(type(lista))\n",
    "print(type(lista1))"
   ]
  },
  {
   "cell_type": "markdown",
   "id": "920804de",
   "metadata": {},
   "source": [
    "### Una gran ventaja es que pueden almacenar tipos de datos distintos."
   ]
  },
  {
   "cell_type": "code",
   "execution_count": 5,
   "id": "2883c9b7",
   "metadata": {},
   "outputs": [
    {
     "name": "stdout",
     "output_type": "stream",
     "text": [
      "[1, 'Hola', 3.67, [1, 2, 3]]\n"
     ]
    }
   ],
   "source": [
    "lista = [1, \"Hola\", 3.67, [1, 2, 3]]\n",
    "print(lista)"
   ]
  },
  {
   "cell_type": "code",
   "execution_count": 6,
   "id": "29b02af2",
   "metadata": {},
   "outputs": [
    {
     "data": {
      "text/plain": [
       "[1, 2, 3]"
      ]
     },
     "execution_count": 6,
     "metadata": {},
     "output_type": "execute_result"
    }
   ],
   "source": [
    "lista[3]"
   ]
  },
  {
   "cell_type": "markdown",
   "id": "26f22433",
   "metadata": {},
   "source": [
    "## Acceder y Modificar Listas"
   ]
  },
  {
   "cell_type": "code",
   "execution_count": 4,
   "id": "7869d580",
   "metadata": {},
   "outputs": [
    {
     "name": "stdout",
     "output_type": "stream",
     "text": [
      "90\n",
      "1\n",
      "[90, 90]\n",
      "['Python']\n",
      "[1, 1, 7, 8, 3, 3.87]\n"
     ]
    }
   ],
   "source": [
    "a = [90, \"Python\", 3.87,12,1,2,3,9,0,9,8,4,5,6,7,8,9,12,1,21,90,90,1] \n",
    "print(a[0])\n",
    "print(a[-1])\n",
    "print(a[-3:-1]) # intervalo cerrado abierto [-3,-1)\n",
    "print(a[1:2])\n",
    "print(a[:: -4])"
   ]
  },
  {
   "cell_type": "code",
   "execution_count": 8,
   "id": "dbb774e0",
   "metadata": {},
   "outputs": [
    {
     "data": {
      "text/plain": [
       "'Python'"
      ]
     },
     "execution_count": 8,
     "metadata": {},
     "output_type": "execute_result"
    }
   ],
   "source": [
    "a[-2]"
   ]
  },
  {
   "cell_type": "code",
   "execution_count": 9,
   "id": "723d5058",
   "metadata": {},
   "outputs": [
    {
     "name": "stdout",
     "output_type": "stream",
     "text": [
      "[90, 'Python', 1]\n"
     ]
    }
   ],
   "source": [
    "a[2] = 1\n",
    "print(a)"
   ]
  },
  {
   "cell_type": "code",
   "execution_count": 10,
   "id": "e9a7c8c4",
   "metadata": {},
   "outputs": [],
   "source": [
    "l = [1, 2, 3, 4, 5, 6]"
   ]
  },
  {
   "cell_type": "code",
   "execution_count": 11,
   "id": "c3882541",
   "metadata": {},
   "outputs": [
    {
     "name": "stdout",
     "output_type": "stream",
     "text": [
      "[1, 3, 4, 5, 6]\n",
      "[1, 3]\n",
      "[4, 5]\n"
     ]
    }
   ],
   "source": [
    "del l[1]\n",
    "print(l)\n",
    "print(l[0:2]) \n",
    "print(l[2:4])"
   ]
  },
  {
   "cell_type": "code",
   "execution_count": 12,
   "id": "e15ef433",
   "metadata": {},
   "outputs": [],
   "source": [
    "#Listas anidadas\n",
    "import math\n",
    "x = [1, 2, 3, ['p', 'q', [5, 6, [1+5j, \"Gustavo\", math.pi]]]]"
   ]
  },
  {
   "cell_type": "code",
   "execution_count": 13,
   "id": "20d66201",
   "metadata": {},
   "outputs": [
    {
     "name": "stdout",
     "output_type": "stream",
     "text": [
      "4\n"
     ]
    }
   ],
   "source": [
    "print(len(x))"
   ]
  },
  {
   "cell_type": "code",
   "execution_count": 14,
   "id": "8959eb55",
   "metadata": {},
   "outputs": [
    {
     "name": "stdout",
     "output_type": "stream",
     "text": [
      "3\n"
     ]
    }
   ],
   "source": [
    "print(len(x[3]))"
   ]
  },
  {
   "cell_type": "code",
   "execution_count": 15,
   "id": "387fdc7f",
   "metadata": {},
   "outputs": [
    {
     "name": "stdout",
     "output_type": "stream",
     "text": [
      "(1+5j)\n"
     ]
    }
   ],
   "source": [
    "print(x[3][2][2][0])"
   ]
  },
  {
   "cell_type": "code",
   "execution_count": 16,
   "id": "70ba2d48",
   "metadata": {},
   "outputs": [],
   "source": [
    "x[3][2][2][0] = \"Polania\""
   ]
  },
  {
   "cell_type": "code",
   "execution_count": 17,
   "id": "53ce1edb",
   "metadata": {},
   "outputs": [
    {
     "name": "stdout",
     "output_type": "stream",
     "text": [
      "Polania\n"
     ]
    }
   ],
   "source": [
    "print(x[3][2][2][0])"
   ]
  },
  {
   "cell_type": "code",
   "execution_count": 18,
   "id": "7f26c287",
   "metadata": {},
   "outputs": [
    {
     "data": {
      "text/plain": [
       "[1, 2, 3, ['p', 'q', [5, 6, ['Polania', 'Gustavo', 3.141592653589793]]]]"
      ]
     },
     "execution_count": 18,
     "metadata": {},
     "output_type": "execute_result"
    }
   ],
   "source": [
    "x"
   ]
  },
  {
   "cell_type": "code",
   "execution_count": 19,
   "id": "4bf3c20a",
   "metadata": {},
   "outputs": [
    {
     "data": {
      "text/plain": [
       "5.859874482048838"
      ]
     },
     "execution_count": 19,
     "metadata": {},
     "output_type": "execute_result"
    }
   ],
   "source": [
    "suma = math.pi + math.e\n",
    "suma"
   ]
  },
  {
   "cell_type": "code",
   "execution_count": 20,
   "id": "f7476dba",
   "metadata": {},
   "outputs": [],
   "source": [
    "x[3][2][2][2] = suma"
   ]
  },
  {
   "cell_type": "code",
   "execution_count": 21,
   "id": "23ee5820",
   "metadata": {},
   "outputs": [
    {
     "data": {
      "text/plain": [
       "[1, 2, 3, ['p', 'q', [5, 6, ['Polania', 'Gustavo', 5.859874482048838]]]]"
      ]
     },
     "execution_count": 21,
     "metadata": {},
     "output_type": "execute_result"
    }
   ],
   "source": [
    "x"
   ]
  },
  {
   "cell_type": "code",
   "execution_count": 22,
   "id": "9c36f01b",
   "metadata": {},
   "outputs": [],
   "source": [
    "x += [suma]"
   ]
  },
  {
   "cell_type": "code",
   "execution_count": 23,
   "id": "363d2ed8",
   "metadata": {},
   "outputs": [
    {
     "data": {
      "text/plain": [
       "[1,\n",
       " 2,\n",
       " 3,\n",
       " ['p', 'q', [5, 6, ['Polania', 'Gustavo', 5.859874482048838]]],\n",
       " 5.859874482048838]"
      ]
     },
     "execution_count": 23,
     "metadata": {},
     "output_type": "execute_result"
    }
   ],
   "source": [
    "x"
   ]
  },
  {
   "cell_type": "code",
   "execution_count": 24,
   "id": "8f653b04",
   "metadata": {},
   "outputs": [
    {
     "name": "stdout",
     "output_type": "stream",
     "text": [
      "p\n",
      "['Polania', 'Gustavo', 5.859874482048838]\n"
     ]
    }
   ],
   "source": [
    "print(x[3][0])\n",
    "print(x[3][2][2])"
   ]
  },
  {
   "cell_type": "code",
   "execution_count": 25,
   "id": "fe6685ec",
   "metadata": {},
   "outputs": [
    {
     "name": "stdout",
     "output_type": "stream",
     "text": [
      "[0, 0, 0, 5, 6]\n"
     ]
    }
   ],
   "source": [
    "l[0:3] = [0, 0, 0] \n",
    "print(l)"
   ]
  },
  {
   "cell_type": "code",
   "execution_count": 51,
   "id": "fe7c3478",
   "metadata": {},
   "outputs": [
    {
     "name": "stdout",
     "output_type": "stream",
     "text": [
      "[1, 2, 3, 4, 5]\n"
     ]
    }
   ],
   "source": [
    "lista1 = [1, 2, 3]\n",
    "lista1 += [4, 5] \n",
    "print(lista1)"
   ]
  },
  {
   "cell_type": "markdown",
   "id": "ef484cfb",
   "metadata": {},
   "source": [
    "## Esto es un comentario markdown"
   ]
  },
  {
   "cell_type": "markdown",
   "id": "f42f040c",
   "metadata": {},
   "source": [
    "## Métodos de las listas"
   ]
  },
  {
   "attachments": {
    "image.png": {
     "image/png": "[encoded data removed]"
    }
   },
   "cell_type": "markdown",
   "id": "266b538f",
   "metadata": {},
   "source": [
    "![image.png](attachment:image.png)"
   ]
  },
  {
   "cell_type": "code",
   "execution_count": 53,
   "id": "79cfa9e1",
   "metadata": {},
   "outputs": [
    {
     "name": "stdout",
     "output_type": "stream",
     "text": [
      "[1, 2]\n"
     ]
    }
   ],
   "source": [
    "l = [1, 2]\n",
    "print(l)"
   ]
  },
  {
   "cell_type": "code",
   "execution_count": 52,
   "id": "ed594525",
   "metadata": {},
   "outputs": [
    {
     "name": "stdout",
     "output_type": "stream",
     "text": [
      "[0, 0, 0, 1, 1, 2, 3, 3]\n"
     ]
    }
   ],
   "source": [
    "l.append(3)\n",
    "print(l)"
   ]
  },
  {
   "attachments": {
    "image.png": {
     "image/png": "[encoded data removed]"
    }
   },
   "cell_type": "markdown",
   "id": "3ff7d290",
   "metadata": {},
   "source": [
    "![image.png](attachment:image.png)"
   ]
  },
  {
   "cell_type": "code",
   "execution_count": 54,
   "id": "d4a6e434",
   "metadata": {},
   "outputs": [
    {
     "name": "stdout",
     "output_type": "stream",
     "text": [
      "[1, 2]\n",
      "[1, 2, 3, 4]\n"
     ]
    }
   ],
   "source": [
    "l = [1, 2]\n",
    "print(l)\n",
    "l.extend([3, 4])\n",
    "print(l)"
   ]
  },
  {
   "attachments": {
    "image.png": {
     "image/png": "[encoded data removed]"
    }
   },
   "cell_type": "markdown",
   "id": "a2958338",
   "metadata": {},
   "source": [
    "![image.png](attachment:image.png)"
   ]
  },
  {
   "cell_type": "code",
   "execution_count": 30,
   "id": "a92be3a2",
   "metadata": {},
   "outputs": [
    {
     "name": "stdout",
     "output_type": "stream",
     "text": [
      "[1, 3]\n",
      "[1, 2, 3]\n"
     ]
    }
   ],
   "source": [
    "l = [1, 3]\n",
    "print(l)\n",
    "l.insert(1, 2)\n",
    "print(l)\n"
   ]
  },
  {
   "cell_type": "code",
   "execution_count": 31,
   "id": "fb17e157",
   "metadata": {},
   "outputs": [
    {
     "name": "stdout",
     "output_type": "stream",
     "text": [
      "['Hola Mundo', 1, 2, 3]\n"
     ]
    }
   ],
   "source": [
    "l.insert(0,\"Hola Mundo\")\n",
    "print(l)"
   ]
  },
  {
   "attachments": {
    "image.png": {
     "image/png": "[encoded data removed]"
    }
   },
   "cell_type": "markdown",
   "id": "ca84b53a",
   "metadata": {},
   "source": [
    "![image.png](attachment:image.png)"
   ]
  },
  {
   "cell_type": "code",
   "execution_count": 32,
   "id": "495059a8",
   "metadata": {},
   "outputs": [
    {
     "name": "stdout",
     "output_type": "stream",
     "text": [
      "[1, 2, 3, 4, 3, 6, 7, 5]\n",
      "[1, 2, 3, 4, 3, 6, 7]\n"
     ]
    }
   ],
   "source": [
    "l = [1, 2, 3, 4, 3, 6, 7, 5]\n",
    "print(l)\n",
    "l.remove(5)\n",
    "print(l)"
   ]
  },
  {
   "cell_type": "code",
   "execution_count": 33,
   "id": "c888aadd",
   "metadata": {},
   "outputs": [
    {
     "name": "stdout",
     "output_type": "stream",
     "text": [
      "[1, 2, 4, 3, 6, 7]\n"
     ]
    }
   ],
   "source": [
    "l.remove(3)\n",
    "print(l)"
   ]
  },
  {
   "attachments": {
    "image.png": {
     "image/png": "[encoded data removed]"
    }
   },
   "cell_type": "markdown",
   "id": "001874e9",
   "metadata": {},
   "source": [
    "![image.png](attachment:image.png)"
   ]
  },
  {
   "cell_type": "code",
   "execution_count": 56,
   "id": "188edce1",
   "metadata": {},
   "outputs": [
    {
     "name": "stdout",
     "output_type": "stream",
     "text": [
      "[1, 2, 3]\n",
      "[1, 2]\n"
     ]
    }
   ],
   "source": [
    "l = [1, 2, 3]\n",
    "print(l)\n",
    "l.pop()\n",
    "print(l)"
   ]
  },
  {
   "attachments": {
    "image.png": {
     "image/png": "[encoded data removed]"
    }
   },
   "cell_type": "markdown",
   "id": "6e3ae22a",
   "metadata": {},
   "source": [
    "![image.png](attachment:image.png)"
   ]
  },
  {
   "cell_type": "code",
   "execution_count": 35,
   "id": "626824a7",
   "metadata": {},
   "outputs": [
    {
     "name": "stdout",
     "output_type": "stream",
     "text": [
      "[1, 2, 3]\n",
      "[3, 2, 1]\n"
     ]
    }
   ],
   "source": [
    "l = [1, 2, 3]\n",
    "print(l)\n",
    "l.reverse()\n",
    "print(l)"
   ]
  },
  {
   "attachments": {
    "image.png": {
     "image/png": "[encoded data removed]"
    }
   },
   "cell_type": "markdown",
   "id": "2e684526",
   "metadata": {},
   "source": [
    "![image.png](attachment:image.png)"
   ]
  },
  {
   "cell_type": "code",
   "execution_count": 36,
   "id": "bfbe50b8",
   "metadata": {},
   "outputs": [
    {
     "name": "stdout",
     "output_type": "stream",
     "text": [
      "[5.68, 3, 1, 2]\n",
      "[1, 2, 3, 5.68]\n"
     ]
    }
   ],
   "source": [
    "l = [5.68, 3, 1, 2]\n",
    "print(l)\n",
    "l.sort()\n",
    "print(l)"
   ]
  },
  {
   "cell_type": "markdown",
   "id": "fde3ffbd",
   "metadata": {},
   "source": [
    "## Lista con funciones"
   ]
  },
  {
   "cell_type": "code",
   "execution_count": 37,
   "id": "af30254c",
   "metadata": {},
   "outputs": [
    {
     "name": "stdout",
     "output_type": "stream",
     "text": [
      "[1, 2, 2.35, 'Hola Mundo', 10, <function <lambda> at 0x0000015C8322F490>]\n"
     ]
    }
   ],
   "source": [
    "texto = \"Hola Mundo\"\n",
    "lista = [1, 2, 2.35, texto, len(texto), lambda x:texto+\" USCO\"]\n",
    "print(lista)"
   ]
  },
  {
   "attachments": {
    "image.png": {
     "image/png": "[encoded data removed]"
    }
   },
   "cell_type": "markdown",
   "id": "0f02efe7",
   "metadata": {},
   "source": [
    "![image.png](attachment:image.png)"
   ]
  },
  {
   "cell_type": "code",
   "execution_count": 38,
   "id": "472bfbcb",
   "metadata": {},
   "outputs": [
    {
     "name": "stdout",
     "output_type": "stream",
     "text": [
      "[3, 1, 2]\n",
      "[3, 2, 1]\n"
     ]
    }
   ],
   "source": [
    "l = [3, 1, 2]\n",
    "print(l)\n",
    "l.sort(reverse=True)\n",
    "print(l)"
   ]
  },
  {
   "attachments": {
    "image.png": {
     "image/png": "[encoded data removed]"
    }
   },
   "cell_type": "markdown",
   "id": "00b3feb3",
   "metadata": {},
   "source": [
    "![image.png](attachment:image.png)"
   ]
  },
  {
   "cell_type": "code",
   "execution_count": 39,
   "id": "2879d80b",
   "metadata": {},
   "outputs": [
    {
     "name": "stdout",
     "output_type": "stream",
     "text": [
      "['Periphery', 'Intervals', 'Monuments']\n",
      "2\n"
     ]
    }
   ],
   "source": [
    "l = [\"Periphery\", \"Intervals\", \"Monuments\"]\n",
    "print(l)\n",
    "print(l.index(\"Monuments\"))\n"
   ]
  },
  {
   "cell_type": "code",
   "execution_count": 40,
   "id": "25df2105",
   "metadata": {},
   "outputs": [
    {
     "name": "stdout",
     "output_type": "stream",
     "text": [
      "[0]\n",
      "[0, 3]\n",
      "[0, 3, 3]\n",
      "[0, 3, 3, 3]\n",
      "{0, 3}\n",
      "ya no encontró más banano\n"
     ]
    }
   ],
   "source": [
    "frutas = [\"banano\", \"mango\", \"piña\", \"banano\", \"anon\", \"piña\"]\n",
    "#print(frutas)\n",
    "repetidos = []\n",
    "try:\n",
    "    for i, v in enumerate(frutas):\n",
    "        repetidos.append(frutas.index(\"banano\", i))\n",
    "        print(repetidos)\n",
    "        \n",
    "except:\n",
    "    print(set(repetidos))\n",
    "    print(\"ya no encontró más banano\")"
   ]
  },
  {
   "cell_type": "code",
   "execution_count": 41,
   "id": "0aec5df0",
   "metadata": {},
   "outputs": [
    {
     "name": "stdout",
     "output_type": "stream",
     "text": [
      "1\n",
      "2\n",
      "4\n",
      "5\n"
     ]
    }
   ],
   "source": [
    "l = [\"Periphery\",\"Monuments\",\"Monuments\", \"Intervals\", \"Monuments\",\"Monuments\"]\n",
    "\n",
    "for i in range(len(l)):\n",
    "    if l[i] == \"Monuments\":\n",
    "        print(l.index(\"Monuments\",i))"
   ]
  },
  {
   "cell_type": "code",
   "execution_count": 42,
   "id": "f470b96d",
   "metadata": {},
   "outputs": [
    {
     "name": "stdout",
     "output_type": "stream",
     "text": [
      "0\n",
      "2\n"
     ]
    }
   ],
   "source": [
    "frutas = [\"banano\", \"pera\", \"banano\", \"piña\"]\n",
    "for i,v in enumerate(frutas):\n",
    "    if(v == \"banano\"):\n",
    "        print(i)"
   ]
  },
  {
   "attachments": {
    "image.png": {
     "image/png": "[encoded data removed]"
    }
   },
   "cell_type": "markdown",
   "id": "f5996ec0",
   "metadata": {},
   "source": [
    "![image.png](attachment:image.png)"
   ]
  },
  {
   "cell_type": "code",
   "execution_count": 43,
   "id": "c9d99e69",
   "metadata": {},
   "outputs": [
    {
     "name": "stdout",
     "output_type": "stream",
     "text": [
      "0\n"
     ]
    }
   ],
   "source": [
    "l = [0, 0, 0, 1, 1, 2, 3]\n",
    "print(l.count(8))"
   ]
  },
  {
   "cell_type": "code",
   "execution_count": 44,
   "id": "3b31f00b",
   "metadata": {},
   "outputs": [
    {
     "name": "stdout",
     "output_type": "stream",
     "text": [
      "2\n"
     ]
    }
   ],
   "source": [
    "lista = [1, 5, \"Hola Amigos de la USCO\"]\n",
    "print(lista[2].count('a'))"
   ]
  },
  {
   "cell_type": "code",
   "execution_count": 45,
   "id": "9f718a08",
   "metadata": {},
   "outputs": [
    {
     "name": "stdout",
     "output_type": "stream",
     "text": [
      "[11, 5, 'Hola Amigos de la USCO']\n"
     ]
    }
   ],
   "source": [
    "lista[0] = lista[0]+10\n",
    "print(lista)"
   ]
  },
  {
   "cell_type": "code",
   "execution_count": 46,
   "id": "e2ec3910",
   "metadata": {},
   "outputs": [
    {
     "name": "stdout",
     "output_type": "stream",
     "text": [
      "[11, 5, 'Hola Amigos de la USCO Guillermo']\n"
     ]
    }
   ],
   "source": [
    "lista[2] += \" Guillermo\"\n",
    "print(lista)"
   ]
  },
  {
   "cell_type": "code",
   "execution_count": 47,
   "id": "12d86e6e",
   "metadata": {},
   "outputs": [
    {
     "name": "stdout",
     "output_type": "stream",
     "text": [
      "0 0\n",
      "1 0\n",
      "2 0\n",
      "3 1\n",
      "4 1\n",
      "5 2\n",
      "6 3\n"
     ]
    }
   ],
   "source": [
    "l = [0, 0, 0, 1, 1, 2, 3]\n",
    "for indice, valor in enumerate(l):\n",
    "    print(indice, valor)"
   ]
  },
  {
   "cell_type": "code",
   "execution_count": 48,
   "id": "e01d428f",
   "metadata": {},
   "outputs": [
    {
     "name": "stdout",
     "output_type": "stream",
     "text": [
      "0 0\n",
      "1 0\n",
      "2 0\n",
      "3 1\n",
      "4 1\n",
      "5 2\n",
      "6 3\n"
     ]
    }
   ],
   "source": [
    "l = [0, 0, 0, 1, 1, 2, 3]\n",
    "i = 0\n",
    "for valor in l:\n",
    "    print(i,valor)\n",
    "    i += 1"
   ]
  },
  {
   "cell_type": "code",
   "execution_count": null,
   "id": "9d5a4d69-51c3-4f58-b28c-314a55748046",
   "metadata": {},
   "outputs": [],
   "source": []
  },
  {
   "cell_type": "code",
   "execution_count": null,
   "id": "ef683ab4-93de-42f4-b42d-7c2000962291",
   "metadata": {},
   "outputs": [],
   "source": []
  },
  {
   "cell_type": "code",
   "execution_count": null,
   "id": "9c7eacfe-5081-498f-b271-69c04835c954",
   "metadata": {},
   "outputs": [],
   "source": []
  }
 ],
 "metadata": {
  "kernelspec": {
   "display_name": "Python 3 (ipykernel)",
   "language": "python",
   "name": "python3"
  },
  "language_info": {
   "codemirror_mode": {
    "name": "ipython",
    "version": 3
   },
   "file_extension": ".py",
   "mimetype": "text/x-python",
   "name": "python",
   "nbconvert_exporter": "python",
   "pygments_lexer": "ipython3",
   "version": "3.9.13"
  }
 },
 "nbformat": 4,
 "nbformat_minor": 5
}
