{
 "cells": [
  {
   "cell_type": "markdown",
   "id": "44feb908",
   "metadata": {},
   "source": [
    "# Estructuras y Colecciones de datos\n",
    "## Docente Gustavo Humberto Polanía Mogollón"
   ]
  },
  {
   "cell_type": "markdown",
   "id": "0c0ff739",
   "metadata": {},
   "source": [
    "# DICCIONARIOS\n",
    "### Un diccionario en Python es una colección de elementos, donde cada uno tiene una llave key y un valor value. Los diccionarios se pueden crear con paréntesis {} separando con una coma cada par key: value."
   ]
  },
  {
   "cell_type": "code",
   "execution_count": null,
   "id": "fa26e726",
   "metadata": {},
   "outputs": [],
   "source": [
    "d1 = {\"Nombre\": \"Sara\", \"Edad\": 27, \"Documento\": 1003882 }\n",
    "d2 = dict(Nombre=\"Sara\", Edad=27, Documento=1003882)\n",
    "print(d1)\n",
    "print(d2)"
   ]
  },
  {
   "cell_type": "code",
   "execution_count": null,
   "id": "5e8813bb",
   "metadata": {},
   "outputs": [],
   "source": [
    "d3 = {5: \"Julian\", 8: 58}\n",
    "print(d3)"
   ]
  },
  {
   "cell_type": "code",
   "execution_count": null,
   "id": "f7c0842e",
   "metadata": {},
   "outputs": [],
   "source": [
    "print(d3.get(5))"
   ]
  },
  {
   "cell_type": "markdown",
   "id": "26f22433",
   "metadata": {},
   "source": [
    "## Acceder y Modificar Diccionarios"
   ]
  },
  {
   "cell_type": "code",
   "execution_count": 1,
   "id": "7869d580",
   "metadata": {},
   "outputs": [
    {
     "name": "stdout",
     "output_type": "stream",
     "text": [
      "27\n",
      "1003882\n",
      "1003882\n"
     ]
    }
   ],
   "source": [
    "d1 = {\"Nombre\": \"Sara\", \"Edad\": 27, \"Documento\": 1003882 }\n",
    "print(d1['Edad'])\n",
    "print(d1['Documento'])\n",
    "print(d1.get('Documento'))"
   ]
  },
  {
   "cell_type": "code",
   "execution_count": null,
   "id": "da0d3577",
   "metadata": {},
   "outputs": [],
   "source": [
    "d1[\"Nombre\"] = \"Laura\"\n",
    "print(d1)"
   ]
  },
  {
   "cell_type": "code",
   "execution_count": 2,
   "id": "19d7576e",
   "metadata": {},
   "outputs": [
    {
     "name": "stdout",
     "output_type": "stream",
     "text": [
      "True\n",
      "False\n",
      "False\n"
     ]
    }
   ],
   "source": [
    "print(\"Nombre\" in d1)\n",
    "print(\"Apellido\" in d1)\n",
    "print(\"Sexo\" in d1)"
   ]
  },
  {
   "cell_type": "code",
   "execution_count": 3,
   "id": "1efd78fb",
   "metadata": {},
   "outputs": [
    {
     "data": {
      "text/plain": [
       "True"
      ]
     },
     "execution_count": 3,
     "metadata": {},
     "output_type": "execute_result"
    }
   ],
   "source": [
    "\"Apellido\" not in d1"
   ]
  },
  {
   "cell_type": "code",
   "execution_count": null,
   "id": "71a2f850",
   "metadata": {},
   "outputs": [],
   "source": [
    "d1[\"Apellido\"] = \"Andrade\"\n",
    "print(d1)"
   ]
  },
  {
   "cell_type": "markdown",
   "id": "f42f040c",
   "metadata": {},
   "source": [
    "## Métodos de los Diccionarios"
   ]
  },
  {
   "attachments": {
    "image.png": {
     "image/png": "[encoded data removed]"
    }
   },
   "cell_type": "markdown",
   "id": "1ba89c47",
   "metadata": {},
   "source": [
    "![image.png](attachment:image.png)"
   ]
  },
  {
   "cell_type": "code",
   "execution_count": null,
   "id": "4361373c",
   "metadata": {},
   "outputs": [],
   "source": [
    "d = {'a': 1, 'b': 2}\n",
    "print(d)\n",
    "d.clear()\n",
    "print(d)"
   ]
  },
  {
   "attachments": {
    "image.png": {
     "image/png": "[encoded data removed]"
    }
   },
   "cell_type": "markdown",
   "id": "163062f8",
   "metadata": {},
   "source": [
    "![image.png](attachment:image.png)"
   ]
  },
  {
   "cell_type": "code",
   "execution_count": null,
   "id": "504a8eab",
   "metadata": {},
   "outputs": [],
   "source": [
    "d = {'a': 1, 'b': 2}\n",
    "print(d)\n",
    "print(d.get('a'))\n",
    "print(d.get('z', 'No encontrado'))"
   ]
  },
  {
   "cell_type": "code",
   "execution_count": null,
   "id": "85dbe63d",
   "metadata": {},
   "outputs": [],
   "source": [
    "print(d.get('m'))"
   ]
  },
  {
   "attachments": {
    "image.png": {
     "image/png": "[encoded data removed]"
    }
   },
   "cell_type": "markdown",
   "id": "cdd45098",
   "metadata": {},
   "source": [
    "![image.png](attachment:image.png)"
   ]
  },
  {
   "cell_type": "code",
   "execution_count": null,
   "id": "95529a12",
   "metadata": {},
   "outputs": [],
   "source": [
    "d = {'a': 1, 'b': 2}\n",
    "print(d)"
   ]
  },
  {
   "cell_type": "code",
   "execution_count": null,
   "id": "d156e5ab",
   "metadata": {},
   "outputs": [],
   "source": [
    "it = d.items()\n",
    "print(it)"
   ]
  },
  {
   "cell_type": "code",
   "execution_count": null,
   "id": "7256b050",
   "metadata": {},
   "outputs": [],
   "source": [
    "print(list(it))"
   ]
  },
  {
   "cell_type": "code",
   "execution_count": null,
   "id": "acb4c4b6",
   "metadata": {},
   "outputs": [],
   "source": [
    "print(list(it)[0])\n",
    "print(type(list(it)[0]))"
   ]
  },
  {
   "cell_type": "code",
   "execution_count": null,
   "id": "49163570",
   "metadata": {},
   "outputs": [],
   "source": [
    "print(list(it)[0][1])"
   ]
  },
  {
   "attachments": {
    "image.png": {
     "image/png": "[encoded data removed]"
    }
   },
   "cell_type": "markdown",
   "id": "6f4b8701",
   "metadata": {},
   "source": [
    "![image.png](attachment:image.png)"
   ]
  },
  {
   "cell_type": "code",
   "execution_count": 4,
   "id": "3f88a2a3",
   "metadata": {},
   "outputs": [
    {
     "name": "stdout",
     "output_type": "stream",
     "text": [
      "dict_keys(['a', 'b'])\n",
      "['a', 'b']\n"
     ]
    }
   ],
   "source": [
    "d = {'a': 1, 'b': 2}\n",
    "k = d.keys()\n",
    "print(k)\n",
    "print(list(k))"
   ]
  },
  {
   "attachments": {
    "image.png": {
     "image/png": "[encoded data removed]"
    }
   },
   "cell_type": "markdown",
   "id": "db076f25",
   "metadata": {},
   "source": [
    "![image.png](attachment:image.png)"
   ]
  },
  {
   "cell_type": "code",
   "execution_count": 5,
   "id": "64177ed3",
   "metadata": {},
   "outputs": [
    {
     "name": "stdout",
     "output_type": "stream",
     "text": [
      "dict_values([1, 2])\n"
     ]
    }
   ],
   "source": [
    "d = {'a': 1, 'b': 2}\n",
    "valores = d.values()\n",
    "print(valores)\n"
   ]
  },
  {
   "cell_type": "code",
   "execution_count": 6,
   "id": "4b467472",
   "metadata": {},
   "outputs": [
    {
     "data": {
      "text/plain": [
       "False"
      ]
     },
     "execution_count": 6,
     "metadata": {},
     "output_type": "execute_result"
    }
   ],
   "source": [
    "\"julian\" in valores"
   ]
  },
  {
   "attachments": {
    "image.png": {
     "image/png": "[encoded data removed]"
    }
   },
   "cell_type": "markdown",
   "id": "7e33dc34",
   "metadata": {},
   "source": [
    "![image.png](attachment:image.png)"
   ]
  },
  {
   "cell_type": "code",
   "execution_count": null,
   "id": "981b65f0",
   "metadata": {},
   "outputs": [],
   "source": [
    "d = {'a': 1, 'b': 2, 'clase': \"matematicas\"}\n",
    "d.pop('clase')\n",
    "print(d)"
   ]
  },
  {
   "cell_type": "markdown",
   "id": "01331255",
   "metadata": {},
   "source": [
    "## popitem() - Elimina el último elemento"
   ]
  },
  {
   "cell_type": "code",
   "execution_count": null,
   "id": "72d7de61",
   "metadata": {},
   "outputs": [],
   "source": [
    "d = {'a': 1, 'b': 2, 'clase': \"matematicas\", 'nombre': \"Gustavo\", 'apellido': \"Polanía\"}\n",
    "d.popitem()\n",
    "print(d)"
   ]
  },
  {
   "attachments": {
    "image.png": {
     "image/png": "[encoded data removed]"
    }
   },
   "cell_type": "markdown",
   "id": "3130dfad",
   "metadata": {},
   "source": [
    "![image.png](attachment:image.png)"
   ]
  },
  {
   "cell_type": "code",
   "execution_count": null,
   "id": "a3c27d1e",
   "metadata": {},
   "outputs": [],
   "source": [
    "d1 = {'a': 1, 'b': 2}\n",
    "print(d1)\n",
    "d2 = {'a': 0, 'd': 400}\n",
    "print(d2)\n",
    "d1.update(d2)\n",
    "print(d1)"
   ]
  },
  {
   "cell_type": "code",
   "execution_count": null,
   "id": "44fde95d",
   "metadata": {},
   "outputs": [],
   "source": [
    "dicccionario1 = {'clave1':1, 'clave2':2, 'clavedict': {'clave3':3, 'clave4':4}}\n",
    "'clave3' in dicccionario1['clavedict'].keys()"
   ]
  },
  {
   "cell_type": "code",
   "execution_count": null,
   "id": "299735d2",
   "metadata": {},
   "outputs": [],
   "source": [
    "1 in dicccionario1['clavedict'].values()"
   ]
  },
  {
   "cell_type": "markdown",
   "id": "4c94b209",
   "metadata": {},
   "source": [
    "## SET"
   ]
  },
  {
   "cell_type": "code",
   "execution_count": null,
   "id": "507df7b3",
   "metadata": {},
   "outputs": [],
   "source": [
    "lista = [1, 2, 3, 3, 'A', 'B', 'A']\n",
    "print(lista)\n",
    "print(type(lista))\n",
    "\n",
    "colecc_set = set(lista)\n",
    "print(colecc_set)"
   ]
  },
  {
   "cell_type": "code",
   "execution_count": null,
   "id": "35ab60fe",
   "metadata": {},
   "outputs": [],
   "source": [
    "s = set([5, 4, 6, 8, 8, 1, 1, 0])\n",
    "print(s)"
   ]
  },
  {
   "cell_type": "code",
   "execution_count": null,
   "id": "3ba569b7",
   "metadata": {},
   "outputs": [],
   "source": [
    "fs = frozenset([1, 2, 3, 3, 4 , 4])\n",
    "print(fs)"
   ]
  }
 ],
 "metadata": {
  "kernelspec": {
   "display_name": "Python 3 (ipykernel)",
   "language": "python",
   "name": "python3"
  },
  "language_info": {
   "codemirror_mode": {
    "name": "ipython",
    "version": 3
   },
   "file_extension": ".py",
   "mimetype": "text/x-python",
   "name": "python",
   "nbconvert_exporter": "python",
   "pygments_lexer": "ipython3",
   "version": "3.10.13"
  }
 },
 "nbformat": 4,
 "nbformat_minor": 5
}
