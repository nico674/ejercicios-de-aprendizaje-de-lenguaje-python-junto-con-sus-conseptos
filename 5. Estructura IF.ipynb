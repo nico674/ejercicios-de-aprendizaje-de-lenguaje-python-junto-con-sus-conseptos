{
 "cells": [
  {
   "cell_type": "markdown",
   "id": "44feb908",
   "metadata": {},
   "source": [
    "# Estructuras de Control\n",
    "## Docente Gustavo Humberto Polanía Mogollón"
   ]
  },
  {
   "cell_type": "code",
   "execution_count": 1,
   "id": "fa26e726",
   "metadata": {},
   "outputs": [
    {
     "name": "stdout",
     "output_type": "stream",
     "text": [
      "No se puede hacer la operación por el siguiente error: name 'a' is not defined\n"
     ]
    }
   ],
   "source": [
    "try:\n",
    "    print(a/b)\n",
    "except Exception as ex:\n",
    "    print(\"No se puede hacer la operación por el siguiente error: {}\".format(ex))"
   ]
  },
  {
   "cell_type": "markdown",
   "id": "0c0ff739",
   "metadata": {},
   "source": [
    "# IF - ELIF - ELSE\n",
    "### La sentencia if evalúa básicamente una operación lógica, es decir una expresión que de como resultado verdadero o false (TRUE o FALSE), y ejecuta la pieza de código siguiente siempre y cuando el resultado sea verdadero."
   ]
  },
  {
   "cell_type": "code",
   "execution_count": 2,
   "id": "147cf389",
   "metadata": {},
   "outputs": [],
   "source": [
    "a = 4\n",
    "b = 2"
   ]
  },
  {
   "cell_type": "code",
   "execution_count": 3,
   "id": "7869d580",
   "metadata": {},
   "outputs": [
    {
     "name": "stdout",
     "output_type": "stream",
     "text": [
      "2.0\n",
      "Dentro if\n",
      "Fuera if\n"
     ]
    }
   ],
   "source": [
    "if b != 0:\n",
    "    c = a/b\n",
    "    print(c)\n",
    "    print(\"Dentro if\")\n",
    "    \n",
    "print(\"Fuera if\")"
   ]
  },
  {
   "cell_type": "code",
   "execution_count": null,
   "id": "476c856e",
   "metadata": {},
   "outputs": [],
   "source": []
  },
  {
   "cell_type": "code",
   "execution_count": null,
   "id": "144bfec1",
   "metadata": {},
   "outputs": [],
   "source": [
    "a = 5\n",
    "if a >= 5 and a < 15:\n",
    "    print(\"Mayor o igual que 5 y menor que 15\")\n",
    "else:\n",
    "    print(\"Esta por fuera de ese rango\")"
   ]
  },
  {
   "cell_type": "code",
   "execution_count": null,
   "id": "e146afcb",
   "metadata": {},
   "outputs": [],
   "source": [
    "a = 10\n",
    "b = 33\n",
    "c = 500\n",
    "if a > b or a > c:\n",
    "    print(\"Al menos una de las condiciones es verdadera\")\n",
    "else:\n",
    "    print(\"No se cumplió ninguna de las dos condiciones\")"
   ]
  },
  {
   "cell_type": "code",
   "execution_count": null,
   "id": "dcd1d608",
   "metadata": {},
   "outputs": [],
   "source": [
    "x = 5\n",
    "if x == 5:\n",
    "    print(\"Es 5\")\n",
    "else:\n",
    "    print(\"No es 5\")"
   ]
  },
  {
   "cell_type": "code",
   "execution_count": null,
   "id": "8f30bd48",
   "metadata": {},
   "outputs": [],
   "source": [
    "x = 10\n",
    "if x == 5:\n",
    "    print(\"Es 5\")\n",
    "elif x == 6:\n",
    "    print(\"Es 6\")\n",
    "elif x == 7:\n",
    "    print(\"Es 7\")\n",
    "else:\n",
    "    print(\"Es otro\")"
   ]
  },
  {
   "cell_type": "code",
   "execution_count": null,
   "id": "40a94443",
   "metadata": {},
   "outputs": [],
   "source": [
    "x = 30\n",
    "\n",
    "if x > 10:\n",
    "    print(\"Mayor que 10,\")\n",
    "    if x > 20:\n",
    "        print(\"y también mayor que 20!\")\n",
    "    else:\n",
    "        print(\"pero menor que 20.\")"
   ]
  },
  {
   "cell_type": "markdown",
   "id": "13d39a2f",
   "metadata": {},
   "source": [
    "## Operador Ternario"
   ]
  },
  {
   "cell_type": "code",
   "execution_count": null,
   "id": "73adff5a",
   "metadata": {},
   "outputs": [],
   "source": [
    "x = 6\n",
    "print(\"Es 5\" if x == 5 else \"No es 5\")"
   ]
  },
  {
   "cell_type": "code",
   "execution_count": null,
   "id": "8ef5e13e",
   "metadata": {},
   "outputs": [],
   "source": [
    "x = 6\n",
    "if x == 5:\n",
    "    print(\"Es 5\")\n",
    "else:\n",
    "    print(\"No es 5\")"
   ]
  },
  {
   "cell_type": "code",
   "execution_count": null,
   "id": "14a960b7",
   "metadata": {},
   "outputs": [],
   "source": [
    "a = 10\n",
    "b = 2\n",
    "c = a/b if b!=0 else -1\n",
    "print(c)"
   ]
  },
  {
   "cell_type": "code",
   "execution_count": null,
   "id": "9bfed19b",
   "metadata": {},
   "outputs": [],
   "source": [
    "a = 10\n",
    "b = 0\n",
    "if b != 0:\n",
    "    c = a/b\n",
    "else:\n",
    "    c = -1\n",
    "print(c)"
   ]
  },
  {
   "cell_type": "code",
   "execution_count": null,
   "id": "9cb81c5f",
   "metadata": {},
   "outputs": [],
   "source": [
    "x = 6\n",
    "y = 5\n",
    "num = 5/6 if x == 6 else 6/5\n",
    "print(\"El valor es \" + str(num))"
   ]
  },
  {
   "cell_type": "code",
   "execution_count": null,
   "id": "7fbc2cc6",
   "metadata": {},
   "outputs": [],
   "source": [
    "a = 330\n",
    "b = 330\n",
    "print(\"A\") if a > b else print(\"=\") if a == b else print(\"B\")"
   ]
  },
  {
   "cell_type": "code",
   "execution_count": null,
   "id": "52c0377a",
   "metadata": {},
   "outputs": [],
   "source": [
    "if a>b:\n",
    "    print(\"A\")\n",
    "    print(\"A otra vez\")\n",
    "else:\n",
    "    if a == b:\n",
    "        print(\"=\")\n",
    "    else:\n",
    "        print(\"B\")"
   ]
  },
  {
   "cell_type": "code",
   "execution_count": null,
   "id": "b9f1ee68",
   "metadata": {},
   "outputs": [],
   "source": [
    "nota = float(input(\"Introduce una nota: \"))\n",
    "\n",
    "print(\"Sobresaliente\") if (nota >= 9) else print(\"Notable\") if (nota >= 7 and nota < 9) else print(\"Bien\") if (nota >= 6 and nota < 7) else print(\"Suficiente\") if (nota >= 5 and nota < 6) else print(\"Insuficiente\")"
   ]
  },
  {
   "cell_type": "code",
   "execution_count": null,
   "id": "a04c9def",
   "metadata": {},
   "outputs": [],
   "source": [
    "x = input(\"Ingrese un dato: \")\n",
    "print(x)\n"
   ]
  },
  {
   "cell_type": "code",
   "execution_count": null,
   "id": "17d9cb59",
   "metadata": {},
   "outputs": [],
   "source": [
    "print(type(x))"
   ]
  }
 ],
 "metadata": {
  "kernelspec": {
   "display_name": "Python 3 (ipykernel)",
   "language": "python",
   "name": "python3"
  },
  "language_info": {
   "codemirror_mode": {
    "name": "ipython",
    "version": 3
   },
   "file_extension": ".py",
   "mimetype": "text/x-python",
   "name": "python",
   "nbconvert_exporter": "python",
   "pygments_lexer": "ipython3",
   "version": "3.10.13"
  }
 },
 "nbformat": 4,
 "nbformat_minor": 5
}
