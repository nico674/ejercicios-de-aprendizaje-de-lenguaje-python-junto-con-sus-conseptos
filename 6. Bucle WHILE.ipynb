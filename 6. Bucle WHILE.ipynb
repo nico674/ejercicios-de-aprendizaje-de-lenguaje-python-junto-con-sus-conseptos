{
 "cells": [
  {
   "cell_type": "markdown",
   "id": "44feb908",
   "metadata": {},
   "source": [
    "# Estructuras de Control\n",
    "## Docente Gustavo Humberto Polanía Mogollón"
   ]
  },
  {
   "cell_type": "markdown",
   "id": "0c0ff739",
   "metadata": {},
   "source": [
    "# Bucle WHILE\n",
    "### Un bucle while permite repetir la ejecución de un grupo de instrucciones mientras se cumpla una condición (es decir, mientras la condición tenga el valor TRUE)"
   ]
  },
  {
   "cell_type": "code",
   "execution_count": 2,
   "id": "fa26e726",
   "metadata": {},
   "outputs": [
    {
     "name": "stdout",
     "output_type": "stream",
     "text": [
      "5\n",
      "4\n",
      "4\n",
      "3\n",
      "3\n",
      "2\n",
      "2\n",
      "1\n",
      "1\n",
      "0\n"
     ]
    }
   ],
   "source": [
    "x = 5\n",
    "while x > 0:\n",
    "    #print(x)\n",
    "    x -= 1 # x = x - 1\n",
    "    print(x)"
   ]
  },
  {
   "cell_type": "code",
   "execution_count": 1,
   "id": "8ce6715f",
   "metadata": {},
   "outputs": [
    {
     "name": "stdout",
     "output_type": "stream",
     "text": [
      "['Dos', 'Tres']\n",
      "['Tres']\n",
      "[]\n"
     ]
    }
   ],
   "source": [
    "x = [\"Uno\", \"Dos\", \"Tres\"]\n",
    "while x:\n",
    "    x.pop(0)\n",
    "    print(x)"
   ]
  },
  {
   "cell_type": "code",
   "execution_count": 5,
   "id": "fb08ee01",
   "metadata": {},
   "outputs": [
    {
     "name": "stdout",
     "output_type": "stream",
     "text": [
      "       *       \n",
      "      ***      \n",
      "     *****     \n",
      "    *******    \n",
      "   *********   \n",
      "  ***********  \n",
      " ************* \n"
     ]
    }
   ],
   "source": [
    "z = 7\n",
    "x = 1\n",
    "while z > 0:\n",
    "    print(' ' * z + '*' * x + ' ' * z)\n",
    "    x+=2\n",
    "    z-=1"
   ]
  },
  {
   "cell_type": "code",
   "execution_count": null,
   "id": "bc94ab87",
   "metadata": {},
   "outputs": [],
   "source": []
  },
  {
   "cell_type": "markdown",
   "id": "09ad92c9",
   "metadata": {},
   "source": [
    "### Recorrer Listas"
   ]
  },
  {
   "cell_type": "code",
   "execution_count": 7,
   "id": "d925a7d3",
   "metadata": {},
   "outputs": [
    {
     "name": "stdout",
     "output_type": "stream",
     "text": [
      "5\n",
      "apple\n",
      "banana\n",
      "cherry\n",
      "pera\n",
      "pine\n"
     ]
    }
   ],
   "source": [
    "list = [\"apple\", \"banana\", \"cherry\",\"pera\",\"pine\"]\n",
    "i = 0\n",
    "print(len(list))\n",
    "while i < len(list):\n",
    "    print(list[i])\n",
    "    i = i + 1"
   ]
  },
  {
   "cell_type": "code",
   "execution_count": null,
   "id": "be5ee25f",
   "metadata": {},
   "outputs": [],
   "source": [
    "# Hacer lo mismo del ejercicio anterior\n",
    "# Pero utilizando el for  enumerate:"
   ]
  },
  {
   "cell_type": "code",
   "execution_count": 26,
   "id": "69b4b782",
   "metadata": {},
   "outputs": [
    {
     "name": "stdout",
     "output_type": "stream",
     "text": [
      "0\n",
      "apple\n",
      "1\n",
      "banana\n",
      "2\n",
      "cherry\n"
     ]
    }
   ],
   "source": [
    "list = [\"apple\", \"banana\", \"cherry\"]\n",
    "\n",
    "\n",
    "for i, v in enumerate(list):\n",
    "    print(i)\n",
    "    print(v)\n",
    "\n"
   ]
  },
  {
   "cell_type": "code",
   "execution_count": null,
   "id": "6d26313f",
   "metadata": {},
   "outputs": [],
   "source": [
    "for x in list:\n",
    "    print(x)"
   ]
  },
  {
   "cell_type": "markdown",
   "id": "e231ebfc",
   "metadata": {},
   "source": [
    "### Recorrer Tuplas"
   ]
  },
  {
   "cell_type": "code",
   "execution_count": null,
   "id": "021995ee",
   "metadata": {},
   "outputs": [],
   "source": [
    "tupla = (\"apple\", \"banana\", \"cherry\")\n",
    "i = 0\n",
    "print(len(tupla))\n",
    "while i < len(tupla):\n",
    "    print(tupla[i])\n",
    "    i = i + 1"
   ]
  },
  {
   "cell_type": "markdown",
   "id": "980f278a",
   "metadata": {},
   "source": [
    "### Recorrer Diccionarios"
   ]
  },
  {
   "cell_type": "code",
   "execution_count": 8,
   "id": "d39a322a",
   "metadata": {},
   "outputs": [
    {
     "name": "stdout",
     "output_type": "stream",
     "text": [
      "[{'Nombre': 'Gandalf', 'Clase': 'Mago', 'Raza': 'Humano'}]\n",
      "[{'Nombre': 'Gandalf', 'Clase': 'Mago', 'Raza': 'Humano'}, {'Nombre': 'Legolas', 'Clase': 'Arquero', 'Raza': 'Elfo'}]\n",
      "[{'Nombre': 'Gandalf', 'Clase': 'Mago', 'Raza': 'Humano'}, {'Nombre': 'Legolas', 'Clase': 'Arquero', 'Raza': 'Elfo'}, {'Nombre': 'Gimli', 'Clase': 'Guerrero', 'Raza': 'Enano'}]\n"
     ]
    }
   ],
   "source": [
    "personajes = [] #lista\n",
    "\n",
    "gandalf = {'Nombre':'Gandalf','Clase':'Mago','Raza':'Humano'}\n",
    "legolas = {'Nombre':'Legolas','Clase':'Arquero','Raza':'Elfo'}\n",
    "gimli = {'Nombre':'Gimli','Clase':'Guerrero','Raza':'Enano'}\n",
    "\n",
    "personajes.append(gandalf)\n",
    "print(personajes)\n",
    "personajes.append(legolas)\n",
    "print(personajes)\n",
    "personajes.append(gimli)\n",
    "\n",
    "print(personajes)"
   ]
  },
  {
   "cell_type": "code",
   "execution_count": 9,
   "id": "dbc10645",
   "metadata": {},
   "outputs": [
    {
     "name": "stdout",
     "output_type": "stream",
     "text": [
      "{'Nombre': 'Gandalf', 'Clase': 'Mago', 'Raza': 'Humano'}\n",
      "<class 'dict'>\n"
     ]
    }
   ],
   "source": [
    "print(personajes[0])\n",
    "print(type(personajes[0]))"
   ]
  },
  {
   "cell_type": "code",
   "execution_count": 13,
   "id": "3bbb0a81",
   "metadata": {},
   "outputs": [
    {
     "name": "stdout",
     "output_type": "stream",
     "text": [
      "Legolas\n"
     ]
    }
   ],
   "source": [
    "print(personajes[1][\"Nombre\"])"
   ]
  },
  {
   "cell_type": "code",
   "execution_count": 14,
   "id": "85c41044",
   "metadata": {},
   "outputs": [
    {
     "name": "stdout",
     "output_type": "stream",
     "text": [
      "Gandalf\n",
      "Legolas\n",
      "Gimli\n"
     ]
    }
   ],
   "source": [
    "i = 0\n",
    "while i < len(personajes):\n",
    "    print(personajes[i][\"Nombre\"])\n",
    "    i += 1"
   ]
  },
  {
   "cell_type": "code",
   "execution_count": 16,
   "id": "df697926",
   "metadata": {},
   "outputs": [
    {
     "name": "stdout",
     "output_type": "stream",
     "text": [
      "Bienvenido al menú interactivo\n",
      "¿Qué quieres hacer? Escribe una opción\n",
      "    1) Saludar\n",
      "    2) Sumar dos números\n",
      "    3) Salir\n"
     ]
    },
    {
     "name": "stdin",
     "output_type": "stream",
     "text": [
      " 1\n"
     ]
    },
    {
     "name": "stdout",
     "output_type": "stream",
     "text": [
      "Hola, espero que la estés pasando bien\n",
      "¿Qué quieres hacer? Escribe una opción\n",
      "    1) Saludar\n",
      "    2) Sumar dos números\n",
      "    3) Salir\n"
     ]
    },
    {
     "name": "stdin",
     "output_type": "stream",
     "text": [
      " 2\n",
      "Introduce el primer número:  2\n",
      "Introduce el segundo número:  0.9\n"
     ]
    },
    {
     "name": "stdout",
     "output_type": "stream",
     "text": [
      "El resultado de la suma es:  2.9\n",
      "¿Qué quieres hacer? Escribe una opción\n",
      "    1) Saludar\n",
      "    2) Sumar dos números\n",
      "    3) Salir\n"
     ]
    },
    {
     "name": "stdin",
     "output_type": "stream",
     "text": [
      " 3\n"
     ]
    },
    {
     "name": "stdout",
     "output_type": "stream",
     "text": [
      "¡Hasta luego! Ha sido un placer ayudarte\n"
     ]
    }
   ],
   "source": [
    "print(\"Bienvenido al menú interactivo\")\n",
    "while(True):\n",
    "    print(\"\"\"¿Qué quieres hacer? Escribe una opción\n",
    "    1) Saludar\n",
    "    2) Sumar dos números\n",
    "    3) Salir\"\"\")\n",
    "    opcion = input()\n",
    "    if opcion == '1':\n",
    "        print(\"Hola, espero que la estés pasando bien\")\n",
    "    elif opcion == '2':\n",
    "        n1 = float(input(\"Introduce el primer número: \"))\n",
    "        n2 = float(input(\"Introduce el segundo número: \"))\n",
    "        print(\"El resultado de la suma es: \",n1+n2)\n",
    "    elif opcion =='3':\n",
    "        print(\"¡Hasta luego! Ha sido un placer ayudarte\")\n",
    "        break\n",
    "    else:\n",
    "        print(\"Comando desconocido, vuelve a intentarlo\")"
   ]
  },
  {
   "cell_type": "markdown",
   "id": "13d39a2f",
   "metadata": {},
   "source": [
    "## WHILE - ELSE"
   ]
  },
  {
   "cell_type": "code",
   "execution_count": 17,
   "id": "b9f1ee68",
   "metadata": {},
   "outputs": [
    {
     "name": "stdout",
     "output_type": "stream",
     "text": [
      "4\n",
      "3\n",
      "2\n",
      "1\n",
      "0\n",
      "El bucle ha finalizado\n"
     ]
    }
   ],
   "source": [
    "x = 5\n",
    "while x > 0:\n",
    "    x -=1\n",
    "    print(x)\n",
    "else:\n",
    "    print(\"El bucle ha finalizado\")"
   ]
  },
  {
   "cell_type": "code",
   "execution_count": 4,
   "id": "2eee9584",
   "metadata": {},
   "outputs": [
    {
     "name": "stdout",
     "output_type": "stream",
     "text": [
      "4\n",
      "3\n",
      "2\n",
      "1\n",
      "0\n",
      "-1\n",
      "-2\n",
      "-3\n",
      "-4\n"
     ]
    }
   ],
   "source": [
    "x = 5\n",
    "while True:\n",
    "    x -= 1\n",
    "    print(x)\n",
    "    if x == -4:\n",
    "        break\n",
    "else:\n",
    "        # El print no se ejecuta\n",
    "    print(\"Fin del bucle\")"
   ]
  }
 ],
 "metadata": {
  "kernelspec": {
   "display_name": "Python 3 (ipykernel)",
   "language": "python",
   "name": "python3"
  },
  "language_info": {
   "codemirror_mode": {
    "name": "ipython",
    "version": 3
   },
   "file_extension": ".py",
   "mimetype": "text/x-python",
   "name": "python",
   "nbconvert_exporter": "python",
   "pygments_lexer": "ipython3",
   "version": "3.9.13"
  }
 },
 "nbformat": 4,
 "nbformat_minor": 5
}
