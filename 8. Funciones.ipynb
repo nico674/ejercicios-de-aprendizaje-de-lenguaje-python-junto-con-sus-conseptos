{
 "cells": [
  {
   "cell_type": "markdown",
   "id": "44feb908",
   "metadata": {},
   "source": [
    "# FUNCIONES\n",
    "## Docente Gustavo Humberto Polanía Mogollón"
   ]
  },
  {
   "cell_type": "markdown",
   "id": "0c0ff739",
   "metadata": {},
   "source": [
    "### Una función es un bloque de código que solo se ejecuta cuando se le llama.  Puede pasar datos, conocidos como parámetros, a una función.  Una función puede devolver datos como resultado."
   ]
  },
  {
   "cell_type": "code",
   "execution_count": 1,
   "id": "29b7c117",
   "metadata": {},
   "outputs": [
    {
     "name": "stdout",
     "output_type": "stream",
     "text": [
      "Hello from a function\n"
     ]
    }
   ],
   "source": [
    "def my_function():\n",
    "    print(\"Hello from a function\")\n",
    "    \n",
    "my_function()"
   ]
  },
  {
   "cell_type": "code",
   "execution_count": 7,
   "id": "2ad5ea6c",
   "metadata": {},
   "outputs": [
    {
     "name": "stdout",
     "output_type": "stream",
     "text": [
      "Hello Gustavo\n",
      "Hello Edwin\n",
      "Hello Jhonatan\n"
     ]
    }
   ],
   "source": [
    "def my_function(name):\n",
    "    print(\"Hello \" + name)\n",
    "    \n",
    "my_function(\"Gustavo\")\n",
    "my_function(\"Edwin\")\n",
    "my_function(\"Jhonatan\")"
   ]
  },
  {
   "cell_type": "code",
   "execution_count": 9,
   "id": "debb6bf3",
   "metadata": {},
   "outputs": [
    {
     "name": "stdout",
     "output_type": "stream",
     "text": [
      "Gustavo Polanía\n"
     ]
    }
   ],
   "source": [
    "def my_function(fname, lname):\n",
    "    print(fname + \" \" + lname)\n",
    "\n",
    "my_function(\"Gustavo\", \"Polanía\")"
   ]
  },
  {
   "cell_type": "markdown",
   "id": "9e82b077",
   "metadata": {},
   "source": [
    "## Argumentos arbitrarios, *args\n",
    "### Si no sabe cuántos argumentos se pasarán a su función, agregue un * antes del nombre del parámetro en la definición de la función.\n",
    "\n",
    "### De esta manera, la función recibirá una tupla de argumentos y podrá acceder a los elementos en consecuencia:"
   ]
  },
  {
   "cell_type": "code",
   "execution_count": 22,
   "id": "8be32fb6",
   "metadata": {},
   "outputs": [
    {
     "name": "stdout",
     "output_type": "stream",
     "text": [
      "('Banano', 'Mango', 'Anon', 'Zapote', 'Piña')\n",
      "<class 'tuple'>\n",
      "Mi fruta preferida es Banano  Mango  Anon  Zapote\n"
     ]
    }
   ],
   "source": [
    "def my_function(*frutas):\n",
    "    print(frutas)\n",
    "    print(type(frutas))\n",
    "    print(\"Mi fruta preferida es \" + frutas[0],\" \"+frutas[1],\" \"+frutas[2],\" \"+frutas[3])\n",
    "\n",
    "\n",
    "my_function(\"Banano\", \"Mango\", \"Anon\", \"Zapote\", \"Piña\")\n",
    "\n",
    "\n"
   ]
  },
  {
   "cell_type": "markdown",
   "id": "c12e96e1",
   "metadata": {},
   "source": [
    "## Argumentos de palabras clave (Keyword Arguments)\n",
    "### También puede enviar argumentos con la sintaxis clave = valor.\n",
    "\n",
    "\n",
    "### De esta manera el orden de los argumentos no importa."
   ]
  },
  {
   "cell_type": "code",
   "execution_count": null,
   "id": "9d664a78",
   "metadata": {},
   "outputs": [],
   "source": [
    "def my_function(fruta4, fruta1, fruta3, fruta2):\n",
    "    print(\"Mi fruta preferida es \" + fruta2)\n",
    "\n",
    "my_function(fruta2=\"Banano\", fruta4=\"Mango\", fruta1=\"Anon\", fruta3=\"Zapote\")"
   ]
  },
  {
   "cell_type": "markdown",
   "id": "793539aa",
   "metadata": {},
   "source": [
    "## Argumentos arbitrarios de palabras clave, **kwargs\n",
    "### Si no sabe cuántos argumentos de palabras clave se pasarán a su función, agregue dos asteriscos: ** antes del nombre del parámetro en la definición de la función.\n",
    "\n",
    "### De esta forma, la función recibirá un diccionario de argumentos y podrá acceder a los elementos en consecuencia:"
   ]
  },
  {
   "cell_type": "code",
   "execution_count": 21,
   "id": "cd563f9e",
   "metadata": {},
   "outputs": [
    {
     "name": "stdout",
     "output_type": "stream",
     "text": [
      "{'fruta1': 'Banano', 'fruta2': 'Mango', 'fruta3': 'Anon', 'fruta4': 'Zapote', 'fruta5': 'Piña'}\n",
      "<class 'dict'>\n",
      "Mi fruta preferida es Anon\n"
     ]
    }
   ],
   "source": [
    "def my_function(**frutas):\n",
    "    print(frutas)\n",
    "    print(type(frutas))\n",
    "    print(\"Mi fruta preferida es \" + frutas['fruta3'])\n",
    "\n",
    "my_function(fruta1=\"Banano\", fruta2=\"Mango\", fruta3=\"Anon\", fruta4=\"Zapote\", fruta5=\"Piña\")"
   ]
  },
  {
   "cell_type": "markdown",
   "id": "ebc0ecd8",
   "metadata": {},
   "source": [
    "## Valor de Argumento por defecto"
   ]
  },
  {
   "cell_type": "code",
   "execution_count": 23,
   "id": "c6647b5a",
   "metadata": {},
   "outputs": [
    {
     "name": "stdout",
     "output_type": "stream",
     "text": [
      "I am from Sweden\n",
      "I am from India\n",
      "I am from Norway\n",
      "I am from Brazil\n"
     ]
    }
   ],
   "source": [
    "def my_function(country = \"Norway\"):\n",
    "    print(\"I am from \" + country)\n",
    "\n",
    "my_function(\"Sweden\")\n",
    "my_function(\"India\")\n",
    "my_function()\n",
    "my_function(\"Brazil\")"
   ]
  },
  {
   "cell_type": "markdown",
   "id": "16d1b336",
   "metadata": {},
   "source": [
    "## Retorno de valores\n",
    "### Para permitir que una función devuelva un valor, use la declaración de retorno return"
   ]
  },
  {
   "cell_type": "code",
   "execution_count": 24,
   "id": "e719e573",
   "metadata": {},
   "outputs": [
    {
     "name": "stdout",
     "output_type": "stream",
     "text": [
      "15\n",
      "25\n",
      "45\n",
      "50\n"
     ]
    }
   ],
   "source": [
    "def my_function(x):\n",
    "    return 5 * x\n",
    "\n",
    "print(my_function(3))\n",
    "print(my_function(5))\n",
    "print(my_function(9))\n",
    "\n",
    "a = my_function(10)\n",
    "print(a)"
   ]
  },
  {
   "cell_type": "markdown",
   "id": "2e53f7d8",
   "metadata": {},
   "source": [
    "## Función LAMBDA\n",
    "### Una función lambda es una pequeña función anónima.  Una función lambda puede tomar cualquier cantidad de argumentos, pero solo puede tener una expresión."
   ]
  },
  {
   "cell_type": "code",
   "execution_count": 25,
   "id": "2d8e41df",
   "metadata": {},
   "outputs": [
    {
     "name": "stdout",
     "output_type": "stream",
     "text": [
      "15\n"
     ]
    }
   ],
   "source": [
    "x = lambda a : a + 10\n",
    "print(x(5))"
   ]
  },
  {
   "cell_type": "code",
   "execution_count": 26,
   "id": "3d154e99",
   "metadata": {},
   "outputs": [
    {
     "name": "stdout",
     "output_type": "stream",
     "text": [
      "13\n"
     ]
    }
   ],
   "source": [
    "x = lambda a, b, c : a + b + c\n",
    "print(x(5, 6, 2))"
   ]
  },
  {
   "cell_type": "markdown",
   "id": "420f477d",
   "metadata": {},
   "source": [
    "#### Es posible declarar la función y llamarla en la misma línea."
   ]
  },
  {
   "cell_type": "code",
   "execution_count": null,
   "id": "ac196201",
   "metadata": {},
   "outputs": [],
   "source": [
    "(lambda a, b: a + b)(2, 4)"
   ]
  },
  {
   "cell_type": "code",
   "execution_count": null,
   "id": "e97f6fe0",
   "metadata": {},
   "outputs": [],
   "source": [
    "(lambda **diccionario: sum(diccionario.values()))(a=1, b=2, c=3)"
   ]
  },
  {
   "cell_type": "markdown",
   "id": "3d418346",
   "metadata": {},
   "source": [
    "# Diccionario como argumento"
   ]
  },
  {
   "cell_type": "code",
   "execution_count": 30,
   "id": "49fd640c",
   "metadata": {},
   "outputs": [
    {
     "name": "stdout",
     "output_type": "stream",
     "text": [
      "<class 'dict'>\n"
     ]
    }
   ],
   "source": [
    "a = {'nombre':'Gustavo', 'edad':30}\n",
    "print(type(a))"
   ]
  },
  {
   "cell_type": "code",
   "execution_count": 31,
   "id": "88b2a25f",
   "metadata": {},
   "outputs": [
    {
     "name": "stdout",
     "output_type": "stream",
     "text": [
      "{'nombre': 'Gustavo', 'edad': 30}\n",
      "<class 'dict'>\n"
     ]
    }
   ],
   "source": [
    "def prueba(diccionario):\n",
    "    print(diccionario)\n",
    "    print(type(diccionario))\n",
    "    \n",
    "prueba(a)"
   ]
  },
  {
   "cell_type": "code",
   "execution_count": 32,
   "id": "30f0130d",
   "metadata": {},
   "outputs": [
    {
     "name": "stdout",
     "output_type": "stream",
     "text": [
      "[1, 2, 3, 'Gustavo', 23.56]\n",
      "<class 'list'>\n"
     ]
    }
   ],
   "source": [
    "lista = [1, 2, 3, 'Gustavo', 23.56]\n",
    "prueba(lista)"
   ]
  },
  {
   "cell_type": "code",
   "execution_count": 33,
   "id": "fdffce29",
   "metadata": {},
   "outputs": [
    {
     "name": "stdout",
     "output_type": "stream",
     "text": [
      "(3+5j)\n",
      "<class 'complex'>\n"
     ]
    }
   ],
   "source": [
    "complejo = 3+5j\n",
    "prueba(complejo)"
   ]
  },
  {
   "cell_type": "code",
   "execution_count": 36,
   "id": "f257fad4",
   "metadata": {},
   "outputs": [],
   "source": [
    "class MyClass:\n",
    "    \"\"\"A simple example class\"\"\"\n",
    "    i = 12345\n",
    "\n",
    "    def f(self):\n",
    "        return 'hello world'"
   ]
  },
  {
   "cell_type": "code",
   "execution_count": 37,
   "id": "27771ce8",
   "metadata": {},
   "outputs": [],
   "source": [
    "x = MyClass()"
   ]
  },
  {
   "cell_type": "code",
   "execution_count": 38,
   "id": "6739b416",
   "metadata": {},
   "outputs": [
    {
     "name": "stdout",
     "output_type": "stream",
     "text": [
      "<__main__.MyClass object at 0x000001DFF871D060>\n",
      "<class '__main__.MyClass'>\n"
     ]
    }
   ],
   "source": [
    "prueba(x)"
   ]
  },
  {
   "cell_type": "code",
   "execution_count": null,
   "id": "0cb8e4d0",
   "metadata": {},
   "outputs": [],
   "source": []
  },
  {
   "cell_type": "code",
   "execution_count": 39,
   "id": "163f7f9e",
   "metadata": {},
   "outputs": [
    {
     "name": "stdin",
     "output_type": "stream",
     "text": [
      "Ingrese un numero:  90\n"
     ]
    },
    {
     "name": "stdout",
     "output_type": "stream",
     "text": [
      "90\n",
      "<class 'str'>\n"
     ]
    }
   ],
   "source": [
    "prueba(input(\"Ingrese un numero: \"))"
   ]
  }
 ],
 "metadata": {
  "kernelspec": {
   "display_name": "Python 3 (ipykernel)",
   "language": "python",
   "name": "python3"
  },
  "language_info": {
   "codemirror_mode": {
    "name": "ipython",
    "version": 3
   },
   "file_extension": ".py",
   "mimetype": "text/x-python",
   "name": "python",
   "nbconvert_exporter": "python",
   "pygments_lexer": "ipython3",
   "version": "3.10.13"
  }
 },
 "nbformat": 4,
 "nbformat_minor": 5
}
