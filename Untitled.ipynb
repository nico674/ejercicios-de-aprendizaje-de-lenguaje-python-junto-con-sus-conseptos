{
 "cells": [
  {
   "cell_type": "code",
   "execution_count": 2,
   "id": "fbfba546-b0d4-4540-885c-878a08389f25",
   "metadata": {},
   "outputs": [
    {
     "name": "stdout",
     "output_type": "stream",
     "text": [
      "<module 'math' (built-in)>\n"
     ]
    }
   ],
   "source": [
    "import math\n",
    "\n",
    "math.pi\n",
    "print(math)"
   ]
  },
  {
   "cell_type": "markdown",
   "id": "0862318b-15f0-41fe-9cd0-f1486e715b44",
   "metadata": {},
   "source": [
    "## Tipo de Dato String\n",
    "\n",
    "# slicing"
   ]
  },
  {
   "cell_type": "code",
   "execution_count": 1,
   "id": "6d4fad90-934d-4a90-b1cf-65d6bf711897",
   "metadata": {},
   "outputs": [
    {
     "name": "stdout",
     "output_type": "stream",
     "text": [
      "[4.5, 'hola']\n"
     ]
    }
   ],
   "source": [
    "a = [3,4.5,\"hola\",\"adios\",4.2]\n",
    "print(a[-4:-2])"
   ]
  },
  {
   "cell_type": "code",
   "execution_count": 1,
   "id": "98131d6c-a5e2-4ba2-9e5c-860036dfe3ee",
   "metadata": {},
   "outputs": [],
   "source": []
  },
  {
   "cell_type": "markdown",
   "id": "4eab5a2a-c556-4eb1-8ae9-8b6220c218be",
   "metadata": {},
   "source": [
    "# ejercio"
   ]
  },
  {
   "cell_type": "code",
   "execution_count": 14,
   "id": "f989b063-0b7f-4838-95da-8041fca5ddef",
   "metadata": {},
   "outputs": [
    {
     "name": "stdout",
     "output_type": "stream",
     "text": [
      "El nombre es Nicolas El apellido es Diaz \n"
     ]
    }
   ],
   "source": [
    "text = \"Mi%nombre%es;Nicolas;Mi%apellido%es;Diaz;\"\n",
    "#El nombre y el apellido oculto es Nicolas Diaz\n",
    "\n",
    "text = text.replace(\"%\",\" \") \n",
    "text = text.replace(\";\",\" \")\n",
    "text = text.replace(\"Mi\",\"El\")\n",
    "print (text)\n"
   ]
  },
  {
   "cell_type": "markdown",
   "id": "466f76f7-1b99-498f-8303-34c551f04481",
   "metadata": {},
   "source": [
    "## listas"
   ]
  },
  {
   "cell_type": "code",
   "execution_count": 3,
   "id": "be463126-12c7-4a24-83b5-2281a13ce0f4",
   "metadata": {},
   "outputs": [
    {
     "name": "stdout",
     "output_type": "stream",
     "text": [
      "[1, 2]\n"
     ]
    }
   ],
   "source": [
    "l = [1 ,2, 3]\n",
    "l.pop()\n",
    "print(l)"
   ]
  },
  {
   "cell_type": "code",
   "execution_count": 6,
   "id": "8d3be73f-662d-41dc-9156-4572b5bbf7cb",
   "metadata": {},
   "outputs": [],
   "source": [
    "a = (3, 2, 1)\n",
    "#b = tuple(8)\n",
    "#print(b)\n",
    "\n",
    "#b = dict(b)\n",
    "#print(b)\n"
   ]
  },
  {
   "cell_type": "code",
   "execution_count": 29,
   "id": "30d44d16",
   "metadata": {},
   "outputs": [
    {
     "name": "stdout",
     "output_type": "stream",
     "text": [
      "0\n",
      "22.11334438749598\n"
     ]
    }
   ],
   "source": [
    "from math import sqrt\n",
    "\n",
    "ecuacion = \"√489\"\n",
    "\n",
    "raiz = \"√\"\n",
    "indice = ecuacion.index(raiz)\n",
    "\n",
    "print(indice)\n",
    "\n",
    "if indice == 0:\n",
    "    on=ecuacion[1::]\n",
    "    ecuacion = int(on)\n",
    "    print(sqrt(ecuacion))\n",
    "    \n"
   ]
  },
  {
   "cell_type": "markdown",
   "id": "77274c31-e7a6-4516-a70a-33bf40ea514d",
   "metadata": {},
   "source": [
    "# estructuras de control"
   ]
  },
  {
   "cell_type": "code",
   "execution_count": null,
   "id": "774e7417-b58c-4c52-89f4-9523b46cd5c6",
   "metadata": {},
   "outputs": [],
   "source": []
  }
 ],
 "metadata": {
  "kernelspec": {
   "display_name": "Python 3 (ipykernel)",
   "language": "python",
   "name": "python3"
  },
  "language_info": {
   "codemirror_mode": {
    "name": "ipython",
    "version": 3
   },
   "file_extension": ".py",
   "mimetype": "text/x-python",
   "name": "python",
   "nbconvert_exporter": "python",
   "pygments_lexer": "ipython3",
   "version": "3.9.13"
  }
 },
 "nbformat": 4,
 "nbformat_minor": 5
}
